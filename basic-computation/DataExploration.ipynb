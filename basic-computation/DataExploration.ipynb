{
 "cells": [
  {
   "cell_type": "markdown",
   "metadata": {},
   "source": [
    "# How to play with root file using Pandas data-frame?"
   ]
  },
  {
   "cell_type": "markdown",
   "metadata": {},
   "source": [
    "## Load standard and less-standard tools"
   ]
  },
  {
   "cell_type": "code",
   "execution_count": 1,
   "metadata": {},
   "outputs": [
    {
     "data": {
      "application/javascript": [
       "require(['codemirror/mode/clike/clike'], function(Clike) { console.log('ROOTaaS - C++ CodeMirror module loaded'); });"
      ]
     },
     "metadata": {},
     "output_type": "display_data"
    },
    {
     "data": {
      "application/javascript": [
       "IPython.CodeCell.config_defaults.highlight_modes['magic_text/x-c++src'] = {'reg':[/^%%cpp/]};"
      ]
     },
     "metadata": {},
     "output_type": "display_data"
    },
    {
     "name": "stdout",
     "output_type": "stream",
     "text": [
      "Welcome to ROOTaaS 6.06/08\n"
     ]
    }
   ],
   "source": [
    "# Disable warnings\n",
    "import warnings\n",
    "warnings.filterwarnings('ignore')\n",
    "\n",
    "# Time profiling\n",
    "import cProfile\n",
    "from   timeit import default_timer\n",
    "\n",
    "# Combinatorics tool\n",
    "import itertools\n",
    "\n",
    "# Usual library\n",
    "import numpy             as np\n",
    "import pandas            as pd\n",
    "import matplotlib        as mpl\n",
    "import matplotlib.pyplot as plt\n",
    "%matplotlib inline\n",
    "\n",
    "# Plot settings\n",
    "mpl.rcParams['legend.frameon' ] = False\n",
    "mpl.rcParams['legend.fontsize'] = 'xx-large'\n",
    "mpl.rcParams['xtick.labelsize'] = 16\n",
    "mpl.rcParams['ytick.labelsize'] = 16\n",
    "mpl.rcParams['axes.titlesize' ] = 18\n",
    "mpl.rcParams['axes.labelsize' ] = 18\n",
    "mpl.rcParams['lines.linewidth'] = 2.5\n",
    "\n",
    "\n",
    "# root_pandas package (https://github.com/scikit-hep/root_pandas)\n",
    "from root_pandas import read_root\n",
    "\n",
    "# uproot package (https://github.com/scikit-hep/uproot)\n",
    "import uproot\n",
    "\n",
    "# root_numpy (http://scikit-hep.org/root_numpy)\n",
    "from root_numpy import root2array\n",
    "\n",
    "# pandas_utils (private tool from https://github.com/mickypaganini/YaleATLAS)\n",
    "import pandautils as pup\n",
    "\n",
    "\n",
    "def get_pandas_df_uproot(fileName, treeName):\n",
    "    tfile = uproot.open(fileName)\n",
    "    tree  = tfile.get(treeName)\n",
    "    return tree.pandas.df()\n",
    "\n",
    "def get_pandas_df_numpy_root(fileName, treeName):\n",
    "    ar = root2array(fileName, treeName).view(np.recarray)\n",
    "    return pd.DataFrame(ar)\n",
    "\n",
    "def test_root_file(loadMethod, fileName, treeName=''):\n",
    "    df = loadMethod(fileName, treeName)\n",
    "    if ('jet_pt' in df.columns): \n",
    "        print('Vector branches seem to be supported')\n",
    "    else:\n",
    "        print('Vector branches doesn\\'t seem to be supported')\n",
    "    return df"
   ]
  },
  {
   "cell_type": "markdown",
   "metadata": {},
   "source": [
    "## Compare running time of three options"
   ]
  },
  {
   "cell_type": "code",
   "execution_count": 2,
   "metadata": {
    "scrolled": true
   },
   "outputs": [
    {
     "name": "stdout",
     "output_type": "stream",
     "text": [
      "Vector branches doesn't seem to be supported\n",
      "Vector branches doesn't seem to be supported\n",
      "Vector branches doesn't seem to be supported\n",
      "1 loop, best of 3: 4.01 s per loop\n"
     ]
    }
   ],
   "source": [
    "%timeit -n 1 test_root_file(read_root,'../VectorNtuple_4topSM.root','nominal_Loose')"
   ]
  },
  {
   "cell_type": "code",
   "execution_count": 4,
   "metadata": {
    "scrolled": true
   },
   "outputs": [
    {
     "name": "stdout",
     "output_type": "stream",
     "text": [
      "Vector branches seem to be supported\n",
      "Vector branches seem to be supported\n",
      "Vector branches seem to be supported\n",
      "1 loop, best of 3: 16.5 s per loop\n"
     ]
    }
   ],
   "source": [
    "%timeit -n 1 test_root_file(get_pandas_df_uproot,'../VectorNtuple_4topSM.root','nominal_Loose')"
   ]
  },
  {
   "cell_type": "code",
   "execution_count": 5,
   "metadata": {},
   "outputs": [
    {
     "name": "stdout",
     "output_type": "stream",
     "text": [
      "Vector branches seem to be supported\n",
      "Vector branches seem to be supported\n",
      "Vector branches seem to be supported\n",
      "1 loop, best of 3: 6.74 s per loop\n"
     ]
    }
   ],
   "source": [
    "%timeit -n 1 test_root_file(get_pandas_df_numpy_root, '../VectorNtuple_4topSM.root', 'nominal_Loose')"
   ]
  },
  {
   "cell_type": "markdown",
   "metadata": {},
   "source": [
    "## Simple plotting with the loading data"
   ]
  },
  {
   "cell_type": "code",
   "execution_count": 6,
   "metadata": {},
   "outputs": [
    {
     "name": "stdout",
     "output_type": "stream",
     "text": [
      "Vector branches seem to be supported\n"
     ]
    },
    {
     "data": {
      "text/html": [
       "<div>\n",
       "<style>\n",
       "    .dataframe thead tr:only-child th {\n",
       "        text-align: right;\n",
       "    }\n",
       "\n",
       "    .dataframe thead th {\n",
       "        text-align: left;\n",
       "    }\n",
       "\n",
       "    .dataframe tbody tr th {\n",
       "        vertical-align: top;\n",
       "    }\n",
       "</style>\n",
       "<table border=\"1\" class=\"dataframe\">\n",
       "  <thead>\n",
       "    <tr style=\"text-align: right;\">\n",
       "      <th></th>\n",
       "      <th>mc_generator_weights</th>\n",
       "      <th>weight_mc</th>\n",
       "      <th>weight_pileup</th>\n",
       "      <th>weight_leptonSF</th>\n",
       "      <th>weight_bTagSF_77</th>\n",
       "      <th>weight_jvt</th>\n",
       "      <th>weight_pileup_UP</th>\n",
       "      <th>weight_pileup_DOWN</th>\n",
       "      <th>weight_leptonSF_EL_SF_Trigger_UP</th>\n",
       "      <th>weight_leptonSF_EL_SF_Trigger_DOWN</th>\n",
       "      <th>...</th>\n",
       "      <th>mu_trigger_SF</th>\n",
       "      <th>mu_trigger_eff_MC</th>\n",
       "      <th>mu_TTVA_SF</th>\n",
       "      <th>jet_isLooseBad</th>\n",
       "      <th>jet_isTightBad</th>\n",
       "      <th>ht</th>\n",
       "      <th>met_sumet</th>\n",
       "      <th>mll</th>\n",
       "      <th>ql1ql2</th>\n",
       "      <th>dPhi_l1l2</th>\n",
       "    </tr>\n",
       "  </thead>\n",
       "  <tbody>\n",
       "    <tr>\n",
       "      <th>0</th>\n",
       "      <td>[1.0]</td>\n",
       "      <td>1.0</td>\n",
       "      <td>1.563530</td>\n",
       "      <td>0.964129</td>\n",
       "      <td>0.958315</td>\n",
       "      <td>1.000000</td>\n",
       "      <td>1.866321</td>\n",
       "      <td>0.895397</td>\n",
       "      <td>0.964129</td>\n",
       "      <td>0.964129</td>\n",
       "      <td>...</td>\n",
       "      <td>[0.820164, 0.996071]</td>\n",
       "      <td>[0.76709, 0.922344]</td>\n",
       "      <td>[0.985203, 0.989439]</td>\n",
       "      <td>[False, False, False, False]</td>\n",
       "      <td>[False, False, False, False]</td>\n",
       "      <td>8.058271e+05</td>\n",
       "      <td>9.914469e+05</td>\n",
       "      <td>154514.625000</td>\n",
       "      <td>0.0</td>\n",
       "      <td>2.746934</td>\n",
       "    </tr>\n",
       "    <tr>\n",
       "      <th>1</th>\n",
       "      <td>[1.0]</td>\n",
       "      <td>1.0</td>\n",
       "      <td>1.061642</td>\n",
       "      <td>0.990203</td>\n",
       "      <td>0.976377</td>\n",
       "      <td>0.884923</td>\n",
       "      <td>1.263761</td>\n",
       "      <td>0.821935</td>\n",
       "      <td>0.990203</td>\n",
       "      <td>0.990204</td>\n",
       "      <td>...</td>\n",
       "      <td>[1.00043]</td>\n",
       "      <td>[0.881565]</td>\n",
       "      <td>[0.987979]</td>\n",
       "      <td>[False, False, False, False, False, False, Fal...</td>\n",
       "      <td>[False, True, False, False, False, False, Fals...</td>\n",
       "      <td>1.272003e+06</td>\n",
       "      <td>1.345101e+06</td>\n",
       "      <td>581611.500000</td>\n",
       "      <td>0.0</td>\n",
       "      <td>-2.442687</td>\n",
       "    </tr>\n",
       "    <tr>\n",
       "      <th>2</th>\n",
       "      <td>[1.0]</td>\n",
       "      <td>1.0</td>\n",
       "      <td>0.846977</td>\n",
       "      <td>0.965472</td>\n",
       "      <td>0.920583</td>\n",
       "      <td>0.979957</td>\n",
       "      <td>0.883613</td>\n",
       "      <td>0.695488</td>\n",
       "      <td>0.965472</td>\n",
       "      <td>0.965472</td>\n",
       "      <td>...</td>\n",
       "      <td>[0.968401, 0.99557]</td>\n",
       "      <td>[0.875846, 0.874471]</td>\n",
       "      <td>[0.98032, 0.993077]</td>\n",
       "      <td>[False, False, False, False, False, False, Fal...</td>\n",
       "      <td>[False, False, False, False, False, False, Fal...</td>\n",
       "      <td>8.980036e+05</td>\n",
       "      <td>9.896339e+05</td>\n",
       "      <td>326389.281250</td>\n",
       "      <td>-2.0</td>\n",
       "      <td>-2.856862</td>\n",
       "    </tr>\n",
       "    <tr>\n",
       "      <th>3</th>\n",
       "      <td>[1.0]</td>\n",
       "      <td>1.0</td>\n",
       "      <td>0.813727</td>\n",
       "      <td>0.967740</td>\n",
       "      <td>0.954925</td>\n",
       "      <td>0.974365</td>\n",
       "      <td>0.802664</td>\n",
       "      <td>0.711440</td>\n",
       "      <td>0.967751</td>\n",
       "      <td>0.967728</td>\n",
       "      <td>...</td>\n",
       "      <td>[0.992621]</td>\n",
       "      <td>[0.889355]</td>\n",
       "      <td>[0.987233]</td>\n",
       "      <td>[False, False, False, False]</td>\n",
       "      <td>[False, False, False, False]</td>\n",
       "      <td>6.881434e+05</td>\n",
       "      <td>7.897079e+05</td>\n",
       "      <td>-999.000000</td>\n",
       "      <td>-999.0</td>\n",
       "      <td>-999.000000</td>\n",
       "    </tr>\n",
       "    <tr>\n",
       "      <th>4</th>\n",
       "      <td>[1.0]</td>\n",
       "      <td>1.0</td>\n",
       "      <td>0.035509</td>\n",
       "      <td>0.939065</td>\n",
       "      <td>0.899858</td>\n",
       "      <td>0.982236</td>\n",
       "      <td>0.034036</td>\n",
       "      <td>0.061250</td>\n",
       "      <td>0.939183</td>\n",
       "      <td>0.938927</td>\n",
       "      <td>...</td>\n",
       "      <td>[]</td>\n",
       "      <td>[]</td>\n",
       "      <td>[]</td>\n",
       "      <td>[False, False, False, False, False, False, False]</td>\n",
       "      <td>[False, False, False, False, False, False, False]</td>\n",
       "      <td>8.816551e+05</td>\n",
       "      <td>9.624936e+05</td>\n",
       "      <td>122864.117188</td>\n",
       "      <td>0.0</td>\n",
       "      <td>2.366611</td>\n",
       "    </tr>\n",
       "  </tbody>\n",
       "</table>\n",
       "<p>5 rows × 324 columns</p>\n",
       "</div>"
      ],
      "text/plain": [
       "  mc_generator_weights  weight_mc  weight_pileup  weight_leptonSF  \\\n",
       "0                [1.0]        1.0       1.563530         0.964129   \n",
       "1                [1.0]        1.0       1.061642         0.990203   \n",
       "2                [1.0]        1.0       0.846977         0.965472   \n",
       "3                [1.0]        1.0       0.813727         0.967740   \n",
       "4                [1.0]        1.0       0.035509         0.939065   \n",
       "\n",
       "   weight_bTagSF_77  weight_jvt  weight_pileup_UP  weight_pileup_DOWN  \\\n",
       "0          0.958315    1.000000          1.866321            0.895397   \n",
       "1          0.976377    0.884923          1.263761            0.821935   \n",
       "2          0.920583    0.979957          0.883613            0.695488   \n",
       "3          0.954925    0.974365          0.802664            0.711440   \n",
       "4          0.899858    0.982236          0.034036            0.061250   \n",
       "\n",
       "   weight_leptonSF_EL_SF_Trigger_UP  weight_leptonSF_EL_SF_Trigger_DOWN  \\\n",
       "0                          0.964129                            0.964129   \n",
       "1                          0.990203                            0.990204   \n",
       "2                          0.965472                            0.965472   \n",
       "3                          0.967751                            0.967728   \n",
       "4                          0.939183                            0.938927   \n",
       "\n",
       "      ...             mu_trigger_SF     mu_trigger_eff_MC  \\\n",
       "0     ...      [0.820164, 0.996071]   [0.76709, 0.922344]   \n",
       "1     ...                 [1.00043]            [0.881565]   \n",
       "2     ...       [0.968401, 0.99557]  [0.875846, 0.874471]   \n",
       "3     ...                [0.992621]            [0.889355]   \n",
       "4     ...                        []                    []   \n",
       "\n",
       "             mu_TTVA_SF                                     jet_isLooseBad  \\\n",
       "0  [0.985203, 0.989439]                       [False, False, False, False]   \n",
       "1            [0.987979]  [False, False, False, False, False, False, Fal...   \n",
       "2   [0.98032, 0.993077]  [False, False, False, False, False, False, Fal...   \n",
       "3            [0.987233]                       [False, False, False, False]   \n",
       "4                    []  [False, False, False, False, False, False, False]   \n",
       "\n",
       "                                      jet_isTightBad            ht  \\\n",
       "0                       [False, False, False, False]  8.058271e+05   \n",
       "1  [False, True, False, False, False, False, Fals...  1.272003e+06   \n",
       "2  [False, False, False, False, False, False, Fal...  8.980036e+05   \n",
       "3                       [False, False, False, False]  6.881434e+05   \n",
       "4  [False, False, False, False, False, False, False]  8.816551e+05   \n",
       "\n",
       "      met_sumet            mll  ql1ql2   dPhi_l1l2  \n",
       "0  9.914469e+05  154514.625000     0.0    2.746934  \n",
       "1  1.345101e+06  581611.500000     0.0   -2.442687  \n",
       "2  9.896339e+05  326389.281250    -2.0   -2.856862  \n",
       "3  7.897079e+05    -999.000000  -999.0 -999.000000  \n",
       "4  9.624936e+05  122864.117188     0.0    2.366611  \n",
       "\n",
       "[5 rows x 324 columns]"
      ]
     },
     "execution_count": 6,
     "metadata": {},
     "output_type": "execute_result"
    }
   ],
   "source": [
    "# Load and print dataset\n",
    "data = test_root_file(get_pandas_df_numpy_root, '../VectorNtuple_4topSM.root', 'nominal_Loose')\n",
    "data.head()"
   ]
  },
  {
   "cell_type": "code",
   "execution_count": 7,
   "metadata": {
    "scrolled": true
   },
   "outputs": [
    {
     "name": "stdout",
     "output_type": "stream",
     "text": [
      "<class 'pandas.core.frame.DataFrame'>\n",
      "RangeIndex: 20343 entries, 0 to 20342\n",
      "Columns: 324 entries, mc_generator_weights to dPhi_l1l2\n",
      "dtypes: bool(5), float32(73), int32(47), int8(16), object(177), uint32(5), uint64(1)\n",
      "memory usage: 37.7+ MB\n",
      "                                            Feature                                              dtype\n",
      "\n",
      "                               mc_generator_weights                                             object\n",
      "                                          weight_mc                                            float32\n",
      "                                      weight_pileup                                            float32\n",
      "                                    weight_leptonSF                                            float32\n",
      "                                   weight_bTagSF_77                                            float32\n",
      "                                         weight_jvt                                            float32\n",
      "                                   weight_pileup_UP                                            float32\n",
      "                                 weight_pileup_DOWN                                            float32\n",
      "                   weight_leptonSF_EL_SF_Trigger_UP                                            float32\n",
      "                 weight_leptonSF_EL_SF_Trigger_DOWN                                            float32\n",
      "                      weight_leptonSF_EL_SF_Reco_UP                                            float32\n",
      "                    weight_leptonSF_EL_SF_Reco_DOWN                                            float32\n",
      "                        weight_leptonSF_EL_SF_ID_UP                                            float32\n",
      "                      weight_leptonSF_EL_SF_ID_DOWN                                            float32\n",
      "                      weight_leptonSF_EL_SF_Isol_UP                                            float32\n",
      "                    weight_leptonSF_EL_SF_Isol_DOWN                                            float32\n",
      "              weight_leptonSF_MU_SF_Trigger_STAT_UP                                            float32\n",
      "            weight_leptonSF_MU_SF_Trigger_STAT_DOWN                                            float32\n",
      "              weight_leptonSF_MU_SF_Trigger_SYST_UP                                            float32\n",
      "            weight_leptonSF_MU_SF_Trigger_SYST_DOWN                                            float32\n",
      "                   weight_leptonSF_MU_SF_ID_STAT_UP                                            float32\n",
      "                 weight_leptonSF_MU_SF_ID_STAT_DOWN                                            float32\n",
      "                   weight_leptonSF_MU_SF_ID_SYST_UP                                            float32\n",
      "                 weight_leptonSF_MU_SF_ID_SYST_DOWN                                            float32\n",
      "             weight_leptonSF_MU_SF_ID_STAT_LOWPT_UP                                            float32\n",
      "           weight_leptonSF_MU_SF_ID_STAT_LOWPT_DOWN                                            float32\n",
      "             weight_leptonSF_MU_SF_ID_SYST_LOWPT_UP                                            float32\n",
      "           weight_leptonSF_MU_SF_ID_SYST_LOWPT_DOWN                                            float32\n",
      "                 weight_leptonSF_MU_SF_Isol_STAT_UP                                            float32\n",
      "               weight_leptonSF_MU_SF_Isol_STAT_DOWN                                            float32\n",
      "                 weight_leptonSF_MU_SF_Isol_SYST_UP                                            float32\n",
      "               weight_leptonSF_MU_SF_Isol_SYST_DOWN                                            float32\n",
      "                 weight_leptonSF_MU_SF_TTVA_STAT_UP                                            float32\n",
      "               weight_leptonSF_MU_SF_TTVA_STAT_DOWN                                            float32\n",
      "                 weight_leptonSF_MU_SF_TTVA_SYST_UP                                            float32\n",
      "               weight_leptonSF_MU_SF_TTVA_SYST_DOWN                                            float32\n",
      "                            weight_indiv_SF_MU_TTVA                                            float32\n",
      "                                      weight_jvt_UP                                            float32\n",
      "                                    weight_jvt_DOWN                                            float32\n",
      "                    weight_bTagSF_77_eigenvars_B_up                                             object\n",
      "                    weight_bTagSF_77_eigenvars_C_up                                             object\n",
      "                weight_bTagSF_77_eigenvars_Light_up                                             object\n",
      "                  weight_bTagSF_77_eigenvars_B_down                                             object\n",
      "                  weight_bTagSF_77_eigenvars_C_down                                             object\n",
      "              weight_bTagSF_77_eigenvars_Light_down                                             object\n",
      "                  weight_bTagSF_77_extrapolation_up                                            float32\n",
      "                weight_bTagSF_77_extrapolation_down                                            float32\n",
      "       weight_bTagSF_77_extrapolation_from_charm_up                                            float32\n",
      "     weight_bTagSF_77_extrapolation_from_charm_down                                            float32\n",
      "                                        eventNumber                                             uint64\n",
      "                                          runNumber                                             uint32\n",
      "                                    randomRunNumber                                             uint32\n",
      "                                    mcChannelNumber                                             uint32\n",
      "                                                 mu                                            float32\n",
      "                                    backgroundFlags                                             uint32\n",
      "                                         hasBadMuon                                             uint32\n",
      "                                              el_pt                                             object\n",
      "                                             el_eta                                             object\n",
      "                                          el_cl_eta                                             object\n",
      "                                             el_phi                                             object\n",
      "                                               el_e                                             object\n",
      "                                          el_charge                                             object\n",
      "                                    el_topoetcone20                                             object\n",
      "                                     el_ptvarcone20                                             object\n",
      "                                         el_isTight                                             object\n",
      "                                              el_CF                                             object\n",
      "                                           el_d0sig                                             object\n",
      "                               el_delta_z0_sintheta                                             object\n",
      "                                       el_true_type                                             object\n",
      "                                     el_true_origin                                             object\n",
      "                                    el_true_typebkg                                             object\n",
      "                                  el_true_originbkg                                             object\n",
      "                                              mu_pt                                             object\n",
      "                                             mu_eta                                             object\n",
      "                                             mu_phi                                             object\n",
      "                                               mu_e                                             object\n",
      "                                          mu_charge                                             object\n",
      "                                    mu_topoetcone20                                             object\n",
      "                                     mu_ptvarcone30                                             object\n",
      "                                         mu_isTight                                             object\n",
      "                                           mu_d0sig                                             object\n",
      "                               mu_delta_z0_sintheta                                             object\n",
      "                                       mu_true_type                                             object\n",
      "                                     mu_true_origin                                             object\n",
      "                                             jet_pt                                             object\n",
      "                                            jet_eta                                             object\n",
      "                                            jet_phi                                             object\n",
      "                                              jet_e                                             object\n",
      "                                         jet_mv2c00                                             object\n",
      "                                         jet_mv2c10                                             object\n",
      "                                         jet_mv2c20                                             object\n",
      "                                        jet_ip3dsv1                                             object\n",
      "                                            jet_jvt                                             object\n",
      "                                       jet_passfjvt                                             object\n",
      "                                      jet_truthflav                                             object\n",
      "                               jet_truthPartonLabel                                             object\n",
      "                                       jet_isTrueHS                                             object\n",
      "                                   jet_isbtagged_77                                             object\n",
      "                                            met_met                                            float32\n",
      "                                            met_phi                                            float32\n",
      "                                       SKIMDIL_2015                                              int32\n",
      "                                       SKIMDIL_2016                                              int32\n",
      "                                          SSee_2015                                              int32\n",
      "                                          SSee_2016                                              int32\n",
      "                                          SSmm_2015                                              int32\n",
      "                                          SSmm_2016                                              int32\n",
      "                                          SSem_2015                                              int32\n",
      "                                          SSem_2016                                              int32\n",
      "                                           eee_2015                                              int32\n",
      "                                           eee_2016                                              int32\n",
      "                                           eem_2015                                              int32\n",
      "                                           eem_2016                                              int32\n",
      "                                           emm_2015                                              int32\n",
      "                                           emm_2016                                              int32\n",
      "                                           mmm_2015                                              int32\n",
      "                                           mmm_2016                                              int32\n",
      "                                    loose_SSee_2015                                              int32\n",
      "                                    loose_SSee_2016                                              int32\n",
      "                                    loose_SSmm_2015                                              int32\n",
      "                                    loose_SSmm_2016                                              int32\n",
      "                                    loose_SSem_2015                                              int32\n",
      "                                    loose_SSem_2016                                              int32\n",
      "                                     loose_eee_2015                                              int32\n",
      "                                     loose_eee_2016                                              int32\n",
      "                                     loose_eem_2015                                              int32\n",
      "                                     loose_eem_2016                                              int32\n",
      "                                     loose_emm_2015                                              int32\n",
      "                                     loose_emm_2016                                              int32\n",
      "                                     loose_mmm_2015                                              int32\n",
      "                                     loose_mmm_2016                                              int32\n",
      "                                     eee_Zveto_2015                                              int32\n",
      "                                     eee_Zveto_2016                                              int32\n",
      "                                     eem_Zveto_2015                                              int32\n",
      "                                     eem_Zveto_2016                                              int32\n",
      "                                     emm_Zveto_2015                                              int32\n",
      "                                     emm_Zveto_2016                                              int32\n",
      "                                     mmm_Zveto_2015                                              int32\n",
      "                                     mmm_Zveto_2016                                              int32\n",
      "                               loose_eee_Zveto_2015                                              int32\n",
      "                               loose_eee_Zveto_2016                                              int32\n",
      "                               loose_eem_Zveto_2015                                              int32\n",
      "                               loose_eem_Zveto_2016                                              int32\n",
      "                               loose_emm_Zveto_2015                                              int32\n",
      "                               loose_emm_Zveto_2016                                              int32\n",
      "                               loose_mmm_Zveto_2015                                              int32\n",
      "                               loose_mmm_Zveto_2016                                              int32\n",
      "                                   HLT_mu22_mu8noL1                                               int8\n",
      "                          HLT_e17_lhloose_nod0_mu14                                               int8\n",
      "                              HLT_e140_lhloose_nod0                                               int8\n",
      "                          HLT_e7_lhmedium_nod0_mu24                                               int8\n",
      "                         HLT_2e12_lhloose_L12EM10VH                                               int8\n",
      "                                   HLT_e120_lhloose                                               int8\n",
      "                                   HLT_mu18_mu8noL1                                               int8\n",
      "                              HLT_e60_lhmedium_nod0                                               int8\n",
      "                               HLT_e17_lhloose_mu14                                               int8\n",
      "                                          HLT_2mu10                                               int8\n",
      "                          HLT_e24_lhmedium_L1EM20VH                                               int8\n",
      "                                   HLT_e60_lhmedium                                               int8\n",
      "                                           HLT_mu50                                               int8\n",
      "                                          HLT_2mu14                                               int8\n",
      "                               HLT_e7_lhmedium_mu24                                               int8\n",
      "                             HLT_2e17_lhvloose_nod0                                               int8\n",
      "             el_trigMatch_HLT_e7_lhmedium_nod0_mu24                                             object\n",
      "            el_trigMatch_HLT_2e12_lhloose_L12EM10VH                                             object\n",
      "                      el_trigMatch_HLT_e120_lhloose                                             object\n",
      "             el_trigMatch_HLT_e24_lhmedium_L1EM20VH                                             object\n",
      "                      el_trigMatch_HLT_e60_lhmedium                                             object\n",
      "                  el_trigMatch_HLT_e7_lhmedium_mu24                                             object\n",
      "                el_trigMatch_HLT_2e17_lhvloose_nod0                                             object\n",
      "             el_trigMatch_HLT_e17_lhloose_nod0_mu14                                             object\n",
      "                  el_trigMatch_HLT_e17_lhloose_mu14                                             object\n",
      "                 el_trigMatch_HLT_e60_lhmedium_nod0                                             object\n",
      "                 el_trigMatch_HLT_e140_lhloose_nod0                                             object\n",
      "                      mu_trigMatch_HLT_mu22_mu8noL1                                             object\n",
      "             mu_trigMatch_HLT_e7_lhmedium_nod0_mu24                                             object\n",
      "             mu_trigMatch_HLT_e17_lhloose_nod0_mu14                                             object\n",
      "                             mu_trigMatch_HLT_2mu14                                             object\n",
      "                              mu_trigMatch_HLT_mu50                                             object\n",
      "                      mu_trigMatch_HLT_mu18_mu8noL1                                             object\n",
      "                  mu_trigMatch_HLT_e7_lhmedium_mu24                                             object\n",
      "                  mu_trigMatch_HLT_e17_lhloose_mu14                                             object\n",
      "                             mu_trigMatch_HLT_2mu10                                             object\n",
      "                                  vlq_truth_channel                                              int32\n",
      "                                            passGRL                                               bool\n",
      "                                       passGOODCALO                                               bool\n",
      "                                         passPRIVTX                                               bool\n",
      "                              passJETCLEAN_LooseBad                                               bool\n",
      "                              passJETCLEAN_TightBad                                               bool\n",
      "                                              pv_z0                                            float32\n",
      "                                      beamPosSigmaX                                            float32\n",
      "                                      beamPosSigmaY                                            float32\n",
      "                                     beamPosSigmaXY                                            float32\n",
      "                               weight_global_pretag                                            float32\n",
      "                                      weight_global                                            float32\n",
      "                          weight_leptonSF_tightLeps                                            float32\n",
      "                                           lep_type                                             object\n",
      "                                          lep_index                                             object\n",
      "                                             lep_pt                                             object\n",
      "                                            lep_eta                                             object\n",
      "                                         lep_cl_eta                                             object\n",
      "                                            lep_phi                                             object\n",
      "                                              lep_e                                             object\n",
      "                                         lep_charge                                             object\n",
      "                                PS_HLT_mu22_mu8noL1                                            float32\n",
      "                       PS_HLT_e17_lhloose_nod0_mu14                                            float32\n",
      "                           PS_HLT_e140_lhloose_nod0                                            float32\n",
      "                       PS_HLT_e7_lhmedium_nod0_mu24                                            float32\n",
      "                      PS_HLT_2e12_lhloose_L12EM10VH                                            float32\n",
      "                                PS_HLT_e120_lhloose                                            float32\n",
      "                                PS_HLT_mu18_mu8noL1                                            float32\n",
      "                           PS_HLT_e60_lhmedium_nod0                                            float32\n",
      "                            PS_HLT_e17_lhloose_mu14                                            float32\n",
      "                                       PS_HLT_2mu10                                            float32\n",
      "                       PS_HLT_e24_lhmedium_L1EM20VH                                            float32\n",
      "                                PS_HLT_e60_lhmedium                                            float32\n",
      "                                        PS_HLT_mu50                                            float32\n",
      "                                       PS_HLT_2mu14                                            float32\n",
      "                            PS_HLT_e7_lhmedium_mu24                                            float32\n",
      "                          PS_HLT_2e17_lhvloose_nod0                                            float32\n",
      "                     lep_trigMatch_HLT_mu22_mu8noL1                                             object\n",
      "            lep_trigMatch_HLT_e17_lhloose_nod0_mu14                                             object\n",
      "                lep_trigMatch_HLT_e140_lhloose_nod0                                             object\n",
      "            lep_trigMatch_HLT_e7_lhmedium_nod0_mu24                                             object\n",
      "           lep_trigMatch_HLT_2e12_lhloose_L12EM10VH                                             object\n",
      "                     lep_trigMatch_HLT_e120_lhloose                                             object\n",
      "                     lep_trigMatch_HLT_mu18_mu8noL1                                             object\n",
      "                lep_trigMatch_HLT_e60_lhmedium_nod0                                             object\n",
      "                 lep_trigMatch_HLT_e17_lhloose_mu14                                             object\n",
      "                            lep_trigMatch_HLT_2mu10                                             object\n",
      "            lep_trigMatch_HLT_e24_lhmedium_L1EM20VH                                             object\n",
      "                     lep_trigMatch_HLT_e60_lhmedium                                             object\n",
      "                             lep_trigMatch_HLT_mu50                                             object\n",
      "                            lep_trigMatch_HLT_2mu14                                             object\n",
      "                 lep_trigMatch_HLT_e7_lhmedium_mu24                                             object\n",
      "               lep_trigMatch_HLT_2e17_lhvloose_nod0                                             object\n",
      "                                          lep_d0sig                                             object\n",
      "                              lep_delta_z0_sintheta                                             object\n",
      "                                        lep_isTight                                             object\n",
      "                                      lep_trk_theta                                             object\n",
      "                                    lep_true_origin                                             object\n",
      "                                      lep_true_type                                             object\n",
      "                                    lep_ptvarcone20                                             object\n",
      "                                    lep_ptvarcone30                                             object\n",
      "                                    lep_ptvarcone40                                             object\n",
      "                                   lep_topoetcone20                                             object\n",
      "                                   lep_topoetcone30                                             object\n",
      "                                   lep_topoetcone40                                             object\n",
      "                              lep_IsoLooseTrackOnly                                             object\n",
      "                                       lep_IsoLoose                                             object\n",
      "                              lep_IsoTightTrackOnly                                             object\n",
      "                                    lep_IsoGradient                                             object\n",
      "                               lep_IsoGradientLoose                                             object\n",
      "                                 lep_closest_jet_pt                                             object\n",
      "                                 lep_closest_jet_dR                                             object\n",
      "                                       lep_met_dPhi                                             object\n",
      "                                              el_d0                                             object\n",
      "                                              el_z0                                             object\n",
      "                                          el_z0_ref                                             object\n",
      "                                         el_d0sigma                                             object\n",
      "                                         el_z0sigma                                             object\n",
      "                                       el_trk_theta                                             object\n",
      "                                      el_true_pdgId                                             object\n",
      "                                   el_true_pdgIdbkg                                             object\n",
      "                                        el_LHMedium                                             object\n",
      "                                         el_LHTight                                             object\n",
      "                                          el_Medium                                             object\n",
      "                                           el_Tight                                             object\n",
      "                                     el_ptvarcone30                                             object\n",
      "                                     el_ptvarcone40                                             object\n",
      "                                    el_topoetcone30                                             object\n",
      "                                    el_topoetcone40                                             object\n",
      "                               el_IsoLooseTrackOnly                                             object\n",
      "                                        el_IsoLoose                                             object\n",
      "                               el_IsoTightTrackOnly                                             object\n",
      "                                     el_IsoGradient                                             object\n",
      "                                el_IsoGradientLoose                                             object\n",
      "                                  el_closest_jet_pt                                             object\n",
      "                                  el_closest_jet_dR                                             object\n",
      "                                        el_met_dPhi                                             object\n",
      "                                el_BDTkiller_output                                             object\n",
      "                                el_BDTkiller_isQmis                                             object\n",
      "                                            el_SF_T                                             object\n",
      "                                    el_trigger_SF_T                                             object\n",
      "                                el_trigger_eff_MC_T                                             object\n",
      "                                              el_SF                                             object\n",
      "                                      el_trigger_SF                                             object\n",
      "                                  el_trigger_eff_MC                                             object\n",
      "                          el_firstEgMotherTruthType                                             object\n",
      "                        el_firstEgMotherTruthOrigin                                             object\n",
      "                              el_firstEgMotherPdgId                                             object\n",
      "                                              mu_d0                                             object\n",
      "                                              mu_z0                                             object\n",
      "                                          mu_z0_ref                                             object\n",
      "                                         mu_d0sigma                                             object\n",
      "                                         mu_z0sigma                                             object\n",
      "                                       mu_trk_theta                                             object\n",
      "                                         mu_quality                                             object\n",
      "                                     mu_ptvarcone20                                             object\n",
      "                                     mu_ptvarcone40                                             object\n",
      "                                    mu_topoetcone30                                             object\n",
      "                                    mu_topoetcone40                                             object\n",
      "                               mu_IsoLooseTrackOnly                                             object\n",
      "                                        mu_IsoLoose                                             object\n",
      "                               mu_IsoTightTrackOnly                                             object\n",
      "                                     mu_IsoGradient                                             object\n",
      "                                mu_IsoGradientLoose                                             object\n",
      "                                  mu_closest_jet_pt                                             object\n",
      "                                  mu_closest_jet_dR                                             object\n",
      "                                        mu_met_dPhi                                             object\n",
      "                                 mu_removedCloseJet                                             object\n",
      "                                            mu_SF_T                                             object\n",
      "                                    mu_trigger_SF_T                                             object\n",
      "                                mu_trigger_eff_MC_T                                             object\n",
      "                                              mu_SF                                             object\n",
      "                                      mu_trigger_SF                                             object\n",
      "                                  mu_trigger_eff_MC                                             object\n",
      "                                         mu_TTVA_SF                                             object\n",
      "                                     jet_isLooseBad                                             object\n",
      "                                     jet_isTightBad                                             object\n",
      "                                                 ht                                            float32\n",
      "                                          met_sumet                                            float32\n",
      "                                                mll                                            float32\n",
      "                                             ql1ql2                                            float32\n",
      "                                          dPhi_l1l2                                            float32\n"
     ]
    }
   ],
   "source": [
    "# Print more dataset informations\n",
    "def PrintAllCols(df):\n",
    "    nmax=np.max( [len(str(w)) for w in data.columns] )\n",
    "    row_to_print = ('{:>'+str(nmax+5)+'}') * 2\n",
    "    print(row_to_print.format(*['Feature','dtype']) + '\\n')\n",
    "    for (feature,thistype) in zip(data.columns, data.dtypes):\n",
    "        print( row_to_print.format(feature, thistype) )\n",
    "\n",
    "data.info()\n",
    "PrintAllCols(data)"
   ]
  },
  {
   "cell_type": "code",
   "execution_count": 8,
   "metadata": {},
   "outputs": [
    {
     "data": {
      "image/png": "[encoded data removed]",
      "text/plain": [
       "<matplotlib.figure.Figure at 0x7efbebe0c490>"
      ]
     },
     "metadata": {},
     "output_type": "display_data"
    }
   ],
   "source": [
    "plt.figure(figsize=(20,7))\n",
    "plt.subplot(1,2,1)\n",
    "ax = plt.hist(data['met_met']/1000., bins=50)\n",
    "plt.subplot(1,2,2)\n",
    "ax = plt.hist(data['ht']/1000., bins=50)"
   ]
  },
  {
   "cell_type": "code",
   "execution_count": 9,
   "metadata": {},
   "outputs": [
    {
     "name": "stdout",
     "output_type": "stream",
     "text": [
      "1 loop, best of 3: 8.57 ms per loop\n",
      "1 loop, best of 3: 9.49 ms per loop\n"
     ]
    },
    {
     "data": {
      "image/png": "[encoded data removed]",
      "text/plain": [
       "<matplotlib.figure.Figure at 0x7efbebdaf150>"
      ]
     },
     "metadata": {},
     "output_type": "display_data"
    }
   ],
   "source": [
    "def method1():\n",
    "    return [len(jet_pt) for jet_pt in data['jet_pt']]\n",
    "\n",
    "def method2():\n",
    "    njet_array=[]\n",
    "    for jet_pt in data['jet_pt']:\n",
    "        njet_array.append(len(jet_pt))\n",
    "    return njet_array\n",
    "\n",
    "%timeit -n 1 method1()\n",
    "%timeit -n 1 method2()\n",
    "\n",
    "data['njets'] = method1()\n",
    "binning = np.linspace(0.5,15.5,16)\n",
    "ax=plt.hist(data['njets'], bins=binning )"
   ]
  },
  {
   "cell_type": "code",
   "execution_count": 10,
   "metadata": {},
   "outputs": [
    {
     "data": {
      "text/html": [
       "<div>\n",
       "<style>\n",
       "    .dataframe thead tr:only-child th {\n",
       "        text-align: right;\n",
       "    }\n",
       "\n",
       "    .dataframe thead th {\n",
       "        text-align: left;\n",
       "    }\n",
       "\n",
       "    .dataframe tbody tr th {\n",
       "        vertical-align: top;\n",
       "    }\n",
       "</style>\n",
       "<table border=\"1\" class=\"dataframe\">\n",
       "  <thead>\n",
       "    <tr style=\"text-align: right;\">\n",
       "      <th></th>\n",
       "      <th>jet_pt</th>\n",
       "      <th>jet_eta</th>\n",
       "      <th>jet_phi</th>\n",
       "    </tr>\n",
       "  </thead>\n",
       "  <tbody>\n",
       "    <tr>\n",
       "      <th>0</th>\n",
       "      <td>[289431.0, 150623.0, 88687.3, 63426.2]</td>\n",
       "      <td>[1.11332, -1.41695, 0.618903, 0.207668]</td>\n",
       "      <td>[-1.25585, -1.95538, 1.50781, 0.986456]</td>\n",
       "    </tr>\n",
       "    <tr>\n",
       "      <th>1</th>\n",
       "      <td>[279632.0, 183484.0, 134012.0, 126458.0, 36996...</td>\n",
       "      <td>[-2.06485, -1.6273, -1.8532, 0.438317, -1.6471...</td>\n",
       "      <td>[-0.341775, 0.173317, -1.62456, 1.68309, -0.40...</td>\n",
       "    </tr>\n",
       "    <tr>\n",
       "      <th>2</th>\n",
       "      <td>[209873.0, 95353.2, 94082.2, 79370.6, 76964.4,...</td>\n",
       "      <td>[1.41309, 1.36183, 1.81234, -2.22454, 0.425058...</td>\n",
       "      <td>[0.383843, -2.78113, 2.14557, -2.00911, 3.0341...</td>\n",
       "    </tr>\n",
       "    <tr>\n",
       "      <th>3</th>\n",
       "      <td>[238301.0, 135565.0, 45804.2, 39356.3]</td>\n",
       "      <td>[0.0451698, -0.627116, -0.467155, 0.0775174]</td>\n",
       "      <td>[1.11992, -0.430242, 0.560438, 0.137535]</td>\n",
       "    </tr>\n",
       "    <tr>\n",
       "      <th>4</th>\n",
       "      <td>[207306.0, 175669.0, 159709.0, 95308.8, 66340....</td>\n",
       "      <td>[-0.866991, -0.142765, -0.319033, -0.852685, -...</td>\n",
       "      <td>[-1.81459, 2.41477, -1.52941, 1.01479, -1.2731...</td>\n",
       "    </tr>\n",
       "  </tbody>\n",
       "</table>\n",
       "</div>"
      ],
      "text/plain": [
       "                                              jet_pt  \\\n",
       "0             [289431.0, 150623.0, 88687.3, 63426.2]   \n",
       "1  [279632.0, 183484.0, 134012.0, 126458.0, 36996...   \n",
       "2  [209873.0, 95353.2, 94082.2, 79370.6, 76964.4,...   \n",
       "3             [238301.0, 135565.0, 45804.2, 39356.3]   \n",
       "4  [207306.0, 175669.0, 159709.0, 95308.8, 66340....   \n",
       "\n",
       "                                             jet_eta  \\\n",
       "0            [1.11332, -1.41695, 0.618903, 0.207668]   \n",
       "1  [-2.06485, -1.6273, -1.8532, 0.438317, -1.6471...   \n",
       "2  [1.41309, 1.36183, 1.81234, -2.22454, 0.425058...   \n",
       "3       [0.0451698, -0.627116, -0.467155, 0.0775174]   \n",
       "4  [-0.866991, -0.142765, -0.319033, -0.852685, -...   \n",
       "\n",
       "                                             jet_phi  \n",
       "0            [-1.25585, -1.95538, 1.50781, 0.986456]  \n",
       "1  [-0.341775, 0.173317, -1.62456, 1.68309, -0.40...  \n",
       "2  [0.383843, -2.78113, 2.14557, -2.00911, 3.0341...  \n",
       "3           [1.11992, -0.430242, 0.560438, 0.137535]  \n",
       "4  [-1.81459, 2.41477, -1.52941, 1.01479, -1.2731...  "
      ]
     },
     "execution_count": 10,
     "metadata": {},
     "output_type": "execute_result"
    }
   ],
   "source": [
    "# Get jet 3-vectors\n",
    "data_3v_jets = data[['jet_pt','jet_eta','jet_phi']]\n",
    "data_3v_jets.head()"
   ]
  },
  {
   "cell_type": "markdown",
   "metadata": {},
   "source": [
    "## Define classes for objects and adding them to the DataFrame"
   ]
  },
  {
   "cell_type": "code",
   "execution_count": 11,
   "metadata": {},
   "outputs": [],
   "source": [
    "class Jet(object):\n",
    "    \"\"\"\n",
    "    Jet Class\n",
    "    \"\"\"\n",
    "    def __init__(self, pt = 0 , eta = 0, phi = 0, m = 0):\n",
    "        super(Jet, self).__init__()\n",
    "        \n",
    "        self._pt = pt\n",
    "        self._eta = eta\n",
    "        self._phi = phi\n",
    "        self._m = m\n",
    "        \n",
    "    def __str__(self):\n",
    "        return 'jet(pT,eta,phi,m)=({:.2f},{:.2f},{:.2f},{:.2f})'.format(self._pt, self._eta, self._phi, self._m)\n",
    "        \n",
    "    @property\n",
    "    def pt(self):\n",
    "        return self._pt\n",
    "        \n",
    "    @property\n",
    "    def eta(self):\n",
    "        return self._eta\n",
    "\n",
    "    @property\n",
    "    def phi(self):\n",
    "        return self._phi\n",
    "        \n",
    "    @property\n",
    "    def m(self):\n",
    "        return self._m\n",
    "    \n",
    "    \n",
    "class Muon(object):\n",
    "    \"\"\"\n",
    "    Muon Class\n",
    "    \"\"\"\n",
    "    def __init__(self, pt = 0 , eta = 0, phi = 0):\n",
    "        super(Muon, self).__init__()\n",
    "        self._pt = pt\n",
    "        self._eta = eta\n",
    "        self._phi = phi\n",
    "        \n",
    "    def __str__(self):\n",
    "        return 'mu(pT,eta,phi)=({:.2f},{:.2f},{:.2f})'.format(self._pt, self._eta, self._phi)\n",
    "        \n",
    "    @property\n",
    "    def pt(self):\n",
    "        return self._pt\n",
    "        \n",
    "    @property\n",
    "    def eta(self):\n",
    "        return self._eta\n",
    "\n",
    "    @property\n",
    "    def phi(self):\n",
    "        return self._phi\n",
    "\n",
    "    \n",
    "class Electron(object):\n",
    "    \"\"\"\n",
    "    Electron Class\n",
    "    \"\"\"\n",
    "    def __init__(self, pt = 0 , eta = 0, phi = 0):\n",
    "        super(Electron, self).__init__()\n",
    "        self._pt = pt\n",
    "        self._eta = eta\n",
    "        self._phi = phi\n",
    "        \n",
    "    def __str__(self):\n",
    "        return 'el(pT,eta,phi)=({:.2f},{:.2f},{:.2f})'.format(self._pt, self._eta, self._phi)\n",
    "        \n",
    "    @property\n",
    "    def pt(self):\n",
    "        return self._pt\n",
    "        \n",
    "    @property\n",
    "    def eta(self):\n",
    "        return self._eta\n",
    "\n",
    "    @property\n",
    "    def phi(self):\n",
    "        return self._phi"
   ]
  },
  {
   "cell_type": "code",
   "execution_count": 12,
   "metadata": {
    "scrolled": false
   },
   "outputs": [
    {
     "name": "stdout",
     "output_type": "stream",
     "text": [
      "1 loop, best of 3: 954 ms per loop\n"
     ]
    }
   ],
   "source": [
    "def add_objectCollection(obj,kinem_name,collection_name):\n",
    "    obj_array = [ obj(pt, eta, phi) for (pt, eta, phi) in zip(\n",
    "        pup.flatten(data[kinem_name[0]]),\n",
    "        pup.flatten(data[kinem_name[1]]),\n",
    "        pup.flatten(data[kinem_name[2]])\n",
    "    )]\n",
    "    objects = np.array( pup.match_shape( np.array(obj_array) , data[kinem_name[0]] ) )\n",
    "    data[collection_name] = objects\n",
    "    return\n",
    "\n",
    "# Get a collection of jets from the dataframe information\n",
    "def addAllCollection():\n",
    "    add_objectCollection(Jet     ,['jet_pt','jet_eta','jet_phi'],'jetCollection' )\n",
    "    add_objectCollection(Muon    ,['mu_pt' ,'mu_eta' ,'mu_phi' ],'muonCollection')\n",
    "    add_objectCollection(Electron,['el_pt' ,'el_eta' ,'el_phi' ],'electronCollection')\n",
    "    data.head()\n",
    "    return\n",
    "\n",
    "%timeit -n 1 addAllCollection()"
   ]
  },
  {
   "cell_type": "markdown",
   "metadata": {},
   "source": [
    "## Playing with event-level variable and event selection"
   ]
  },
  {
   "cell_type": "markdown",
   "metadata": {},
   "source": [
    "### Define dR variable"
   ]
  },
  {
   "cell_type": "code",
   "execution_count": 22,
   "metadata": {},
   "outputs": [
    {
     "name": "stdout",
     "output_type": "stream",
     "text": [
      "jet(pT,eta,phi,m)=(12.00,0.40,-2.10,0.00) & jet(pT,eta,phi,m)=(34.00,0.50,3.10,0.00)\n",
      "5.20096144958\n",
      "119.62211334\n"
     ]
    }
   ],
   "source": [
    "# Usual dR\n",
    "def GetdR(jet_pair):\n",
    "    return np.hypot( jet_pair[0].eta-jet_pair[1].eta, jet_pair[0].phi-jet_pair[1].phi )\n",
    "\n",
    "# weighted-pT dR computation\n",
    "def pTweighted_dR(jet1,jet2):\n",
    "    pt_ave = (jet1.pt + jet2.pt)/2.0\n",
    "    return pt_ave * GetdR( np.array([jet1,jet2]) )\n",
    "\n",
    "myjet1 = Jet(pt=12, eta=0.4, phi=-2.1)\n",
    "myjet2 = Jet(pt=34, eta=0.5, phi=+3.1)\n",
    "print( str(myjet1) + ' & '+ str(myjet2) )\n",
    "print( GetdR( np.array([myjet1,myjet2]) ) )\n",
    "print( pTweighted_dR(myjet1,myjet2) )"
   ]
  },
  {
   "cell_type": "markdown",
   "metadata": {},
   "source": [
    "### Interlude: numpy array, mask and event selection"
   ]
  },
  {
   "cell_type": "code",
   "execution_count": 23,
   "metadata": {
    "scrolled": false
   },
   "outputs": [
    {
     "name": "stdout",
     "output_type": "stream",
     "text": [
      "[5 2 3 1 4 5]\n",
      "[False  True  True  True False False]\n",
      "[2 3 1]\n"
     ]
    }
   ],
   "source": [
    "# interlude: numpy array and selection\n",
    "x = np.array([5, 2, 3, 1, 4, 5])\n",
    "mask = x<4\n",
    "print(x)\n",
    "print(mask)\n",
    "print(x[mask])"
   ]
  },
  {
   "cell_type": "markdown",
   "metadata": {},
   "source": [
    "### Plot dR distribution after selections"
   ]
  },
  {
   "cell_type": "code",
   "execution_count": 24,
   "metadata": {},
   "outputs": [
    {
     "name": "stdout",
     "output_type": "stream",
     "text": [
      "Number of selected events:\n",
      "method 1: 2361\n",
      "method 2: 2361 -- type:<class 'pandas.core.series.Series'>\n",
      "method 3: 2361 -- type:<type 'numpy.ndarray'>\n"
     ]
    }
   ],
   "source": [
    "# Now keeps only events for which at exactly 3 leptons are present\n",
    "data['nlep']  = [len(lep_pt) for lep_pt in data['lep_pt']]\n",
    "\n",
    "# 1. method based on panda query\n",
    "selected_jets1 = data.query('nlep==3')['jetCollection']\n",
    "\n",
    "# 2. method based on numpy-like masks\n",
    "mask_events = (data['nlep']==3)\n",
    "all_events_jets = data['jetCollection']\n",
    "selected_jets2  = all_events_jets[mask_events]\n",
    "\n",
    "# 3. getting the actual numpy object behing pandas series and apply masks\n",
    "mask_events_val     = mask_events.values\n",
    "all_events_jets_val = data['jetCollection'].values\n",
    "selected_jets2_val  = all_events_jets_val[mask_events_val]\n",
    "\n",
    "# Comparison of N[selected events]\n",
    "print('Number of selected events:')\n",
    "print('method 1: ' + str(len(selected_jets1)) )\n",
    "print('method 2: ' + str(len(selected_jets2))     + ' -- type:' + str(type(selected_jets2    )) )\n",
    "print('method 3: ' + str(len(selected_jets2_val)) + ' -- type:' + str(type(selected_jets2_val)) )"
   ]
  },
  {
   "cell_type": "code",
   "execution_count": 30,
   "metadata": {},
   "outputs": [
    {
     "data": {
      "image/png": "[encoded data removed]",
      "text/plain": [
       "<matplotlib.figure.Figure at 0x7efbeacd4110>"
      ]
     },
     "metadata": {},
     "output_type": "display_data"
    }
   ],
   "source": [
    "selected_jets = selected_jets1\n",
    "\n",
    "dR_ptweighted=[]\n",
    "dR=[]\n",
    "for jet_collection in selected_jets:\n",
    "    for j in itertools.combinations(jet_collection,2):\n",
    "        jet_pair = np.array([j[0],j[1]])\n",
    "        dR.append( GetdR(jet_pair) )\n",
    "        dR_ptweighted.append( pTweighted_dR(j[0],j[1]) )\n",
    "\n",
    "plt.figure(figsize=(20,7))\n",
    "plt.subplot(1,2,1)\n",
    "ax = plt.hist(dR,bins=100)\n",
    "plt.subplot(1,2,2)\n",
    "ax = plt.hist(dR_ptweighted,bins=100)"
   ]
  },
  {
   "cell_type": "code",
   "execution_count": 31,
   "metadata": {},
   "outputs": [
    {
     "data": {
      "text/plain": [
       "[<matplotlib.lines.Line2D at 0x7efbe4eb56d0>]"
      ]
     },
     "execution_count": 31,
     "metadata": {},
     "output_type": "execute_result"
    },
    {
     "data": {
      "image/png": "[encoded data removed]",
      "text/plain": [
       "<matplotlib.figure.Figure at 0x7efbeae937d0>"
      ]
     },
     "metadata": {},
     "output_type": "display_data"
    },
    {
     "data": {
      "image/png": "[encoded data removed]",
      "text/plain": [
       "<matplotlib.figure.Figure at 0x7efbeae93690>"
      ]
     },
     "metadata": {},
     "output_type": "display_data"
    }
   ],
   "source": [
    "# generalizing to plot min[dRjj] for different njets values\n",
    "def plot_mindR_over_event(sample):\n",
    "    dRmin=[]\n",
    "    for jet_collection in sample['jetCollection']:\n",
    "        if (len(jet_collection)>1):\n",
    "            dRmin.append( np.min([GetdR(jpair) for jpair in itertools.combinations(jet_collection,2)]) )\n",
    "    ax = plt.hist(dRmin,bins=100)    \n",
    "    return ax\n",
    "\n",
    "\n",
    "data_per_njets = data.groupby('njets')\n",
    "plt.figure(figsize=(20,20))\n",
    "dRmean = {}\n",
    "for njet,sample in data_per_njets:\n",
    "    plt.subplot(5,5,njet+1)\n",
    "    plt.title('$N_{j} = $' + str(njet))\n",
    "    plt.xlim(0,5)\n",
    "    ax = plot_mindR_over_event( sample )\n",
    "    dRmean.update({njet:np.mean(ax[1])})\n",
    "\n",
    "plt.figure(figsize=(10,7))\n",
    "plt.xlabel('$N_{j}$')\n",
    "plt.ylabel('$<dR_{min}>$')\n",
    "plt.xlim(0,20)\n",
    "plt.ylim(0,5)\n",
    "plt.plot(dRmean.keys(),dRmean.values(),'o-')"
   ]
  },
  {
   "cell_type": "markdown",
   "metadata": {},
   "source": [
    "## Comparing time: explicit loop versus vectioralization"
   ]
  },
  {
   "cell_type": "code",
   "execution_count": 32,
   "metadata": {
    "scrolled": true
   },
   "outputs": [],
   "source": [
    "def get_dRmin(jet_collection):\n",
    "    dRmin=[]\n",
    "    if (len(jet_collection)>1):\n",
    "        return np.min([GetdR(jpair) for jpair in itertools.combinations(jet_collection,2)])\n",
    "    else:\n",
    "        return -1."
   ]
  },
  {
   "cell_type": "markdown",
   "metadata": {},
   "source": [
    "### Vectorialized-method"
   ]
  },
  {
   "cell_type": "code",
   "execution_count": 33,
   "metadata": {},
   "outputs": [
    {
     "name": "stdout",
     "output_type": "stream",
     "text": [
      "1 loop, best of 3: 1.33 s per loop\n"
     ]
    }
   ],
   "source": [
    "data_copy = data\n",
    "%timeit -n 1 data_copy['dRmin'] = data_copy['jetCollection'].apply(get_dRmin)"
   ]
  },
  {
   "cell_type": "markdown",
   "metadata": {},
   "source": [
    "### Explicit loop"
   ]
  },
  {
   "cell_type": "code",
   "execution_count": 34,
   "metadata": {
    "scrolled": true
   },
   "outputs": [
    {
     "name": "stdout",
     "output_type": "stream",
     "text": [
      " --> done in 1.44s \n",
      "\n"
     ]
    }
   ],
   "source": [
    "dR=[]\n",
    "t_start = default_timer()\n",
    "for jet_collection in data['jetCollection']:\n",
    "    if (len(jet_collection)>1):\n",
    "        dR.append( np.min([GetdR(jpair) for jpair in itertools.combinations(jet_collection,2)]) )\n",
    "    else:\n",
    "        dR.append(-1)\n",
    "\n",
    "t_stop  = default_timer()\n",
    "print (' --> done in {:.2f}s \\n'.format( t_stop-t_start ) )"
   ]
  },
  {
   "cell_type": "markdown",
   "metadata": {},
   "source": [
    "It seems that the vectorialization doesn't help so munch in that case. This might be due the fact that we are using user-defined classes (for instance, Jets) which might not benefits from intrinsic compiled code. The next section compares user-defined classes and flat numbers in order to check this assertion."
   ]
  },
  {
   "cell_type": "markdown",
   "metadata": {},
   "source": [
    "## Comparing time: user-defined classes versus arrays of flat numbers"
   ]
  },
  {
   "cell_type": "code",
   "execution_count": 52,
   "metadata": {},
   "outputs": [],
   "source": [
    "GetdR_vec = np.vectorize(GetdR)\n",
    "\n",
    "def GetmindR_class(coll1,coll2):\n",
    "    if (np.array_equal(coll1,coll2)): \n",
    "        all_pairs = list(itertools.combinations(coll1,2))\n",
    "    else:\n",
    "        all_pairs = list( itertools.product(coll1,coll2) )\n",
    "    if(len(all_pairs)>0):\n",
    "        return np.min( GetdR_vec(np.array(all_pairs)) )\n",
    "    else:\n",
    "        return -1\n",
    "\n",
    "def GetmindR_flat(arr_eta1, arr_eta2, arr_phi1, arr_phi2):\n",
    "    if(np.array_equal(arr_eta1,arr_eta2)):\n",
    "        all_pairs_eta = list(itertools.combinations(arr_eta1,2))\n",
    "        all_pairs_phi = list(itertools.combinations(arr_phi1,2))\n",
    "    else:\n",
    "        all_pairs_eta = list( itertools.product(arr_eta1, arr_eta2) )\n",
    "        all_pairs_phi = list( itertools.product(arr_phi1, arr_phi2) )\n",
    "    if (len(all_pairs_eta)>0):\n",
    "        dR2min= np.min( [np.square(eta1-eta2)+np.square(phi1-phi2) for ((eta1,eta2),(phi1,phi2)) in zip(all_pairs_eta, all_pairs_phi) ] )\n",
    "        return np.sqrt(dR2min)"
   ]
  },
  {
   "cell_type": "code",
   "execution_count": 53,
   "metadata": {},
   "outputs": [
    {
     "ename": "TypeError",
     "evalue": "(\"'Muon' object does not support indexing\", u'occurred at index 0')",
     "output_type": "error",
     "traceback": [
      "\u001b[0;31m\u001b[0m",
      "\u001b[0;31mTypeError\u001b[0mTraceback (most recent call last)",
      "\u001b[0;32m<ipython-input-53-f7c7468b4446>\u001b[0m in \u001b[0;36m<module>\u001b[0;34m()\u001b[0m\n\u001b[1;32m      1\u001b[0m \u001b[0mt_start\u001b[0m \u001b[0;34m=\u001b[0m \u001b[0mdefault_timer\u001b[0m\u001b[0;34m(\u001b[0m\u001b[0;34m)\u001b[0m\u001b[0;34m\u001b[0m\u001b[0m\n\u001b[0;32m----> 2\u001b[0;31m \u001b[0mdR_mu_jet\u001b[0m  \u001b[0;34m=\u001b[0m \u001b[0mdata\u001b[0m\u001b[0;34m.\u001b[0m\u001b[0mapply\u001b[0m\u001b[0;34m(\u001b[0m\u001b[0;32mlambda\u001b[0m \u001b[0mr\u001b[0m\u001b[0;34m:\u001b[0m \u001b[0mGetmindR_class\u001b[0m\u001b[0;34m(\u001b[0m\u001b[0mr\u001b[0m\u001b[0;34m[\u001b[0m\u001b[0;34m'muonCollection'\u001b[0m\u001b[0;34m]\u001b[0m     \u001b[0;34m,\u001b[0m \u001b[0mr\u001b[0m\u001b[0;34m[\u001b[0m\u001b[0;34m'jetCollection'\u001b[0m\u001b[0;34m]\u001b[0m\u001b[0;34m)\u001b[0m     \u001b[0;34m,\u001b[0m \u001b[0maxis\u001b[0m\u001b[0;34m=\u001b[0m\u001b[0;36m1\u001b[0m \u001b[0;34m)\u001b[0m\u001b[0;34m\u001b[0m\u001b[0m\n\u001b[0m\u001b[1;32m      3\u001b[0m \u001b[0mdR_jet_jet\u001b[0m \u001b[0;34m=\u001b[0m \u001b[0mdata\u001b[0m\u001b[0;34m.\u001b[0m\u001b[0mapply\u001b[0m\u001b[0;34m(\u001b[0m\u001b[0;32mlambda\u001b[0m \u001b[0mr\u001b[0m\u001b[0;34m:\u001b[0m \u001b[0mGetmindR_class\u001b[0m\u001b[0;34m(\u001b[0m\u001b[0mr\u001b[0m\u001b[0;34m[\u001b[0m\u001b[0;34m'jetCollection'\u001b[0m\u001b[0;34m]\u001b[0m      \u001b[0;34m,\u001b[0m \u001b[0mr\u001b[0m\u001b[0;34m[\u001b[0m\u001b[0;34m'jetCollection'\u001b[0m\u001b[0;34m]\u001b[0m\u001b[0;34m)\u001b[0m     \u001b[0;34m,\u001b[0m \u001b[0maxis\u001b[0m\u001b[0;34m=\u001b[0m\u001b[0;36m1\u001b[0m \u001b[0;34m)\u001b[0m\u001b[0;34m\u001b[0m\u001b[0m\n\u001b[1;32m      4\u001b[0m \u001b[0mdR_el_jet\u001b[0m  \u001b[0;34m=\u001b[0m \u001b[0mdata\u001b[0m\u001b[0;34m.\u001b[0m\u001b[0mapply\u001b[0m\u001b[0;34m(\u001b[0m\u001b[0;32mlambda\u001b[0m \u001b[0mr\u001b[0m\u001b[0;34m:\u001b[0m \u001b[0mGetmindR_class\u001b[0m\u001b[0;34m(\u001b[0m\u001b[0mr\u001b[0m\u001b[0;34m[\u001b[0m\u001b[0;34m'electronCollection'\u001b[0m\u001b[0;34m]\u001b[0m \u001b[0;34m,\u001b[0m \u001b[0mr\u001b[0m\u001b[0;34m[\u001b[0m\u001b[0;34m'jetCollection'\u001b[0m\u001b[0;34m]\u001b[0m\u001b[0;34m)\u001b[0m     \u001b[0;34m,\u001b[0m \u001b[0maxis\u001b[0m\u001b[0;34m=\u001b[0m\u001b[0;36m1\u001b[0m \u001b[0;34m)\u001b[0m\u001b[0;34m\u001b[0m\u001b[0m\n\u001b[1;32m      5\u001b[0m \u001b[0mdR_el_el\u001b[0m   \u001b[0;34m=\u001b[0m \u001b[0mdata\u001b[0m\u001b[0;34m.\u001b[0m\u001b[0mapply\u001b[0m\u001b[0;34m(\u001b[0m\u001b[0;32mlambda\u001b[0m \u001b[0mr\u001b[0m\u001b[0;34m:\u001b[0m \u001b[0mGetmindR_class\u001b[0m\u001b[0;34m(\u001b[0m\u001b[0mr\u001b[0m\u001b[0;34m[\u001b[0m\u001b[0;34m'electronCollection'\u001b[0m\u001b[0;34m]\u001b[0m \u001b[0;34m,\u001b[0m \u001b[0mr\u001b[0m\u001b[0;34m[\u001b[0m\u001b[0;34m'electronCollection'\u001b[0m\u001b[0;34m]\u001b[0m\u001b[0;34m)\u001b[0m\u001b[0;34m,\u001b[0m \u001b[0maxis\u001b[0m\u001b[0;34m=\u001b[0m\u001b[0;36m1\u001b[0m \u001b[0;34m)\u001b[0m\u001b[0;34m\u001b[0m\u001b[0m\n",
      "\u001b[0;32m/usr/local/lib/python2.7/dist-packages/pandas/core/frame.pyc\u001b[0m in \u001b[0;36mapply\u001b[0;34m(self, func, axis, broadcast, raw, reduce, args, **kwds)\u001b[0m\n\u001b[1;32m   4260\u001b[0m                         \u001b[0mf\u001b[0m\u001b[0;34m,\u001b[0m \u001b[0maxis\u001b[0m\u001b[0;34m,\u001b[0m\u001b[0;34m\u001b[0m\u001b[0m\n\u001b[1;32m   4261\u001b[0m                         \u001b[0mreduce\u001b[0m\u001b[0;34m=\u001b[0m\u001b[0mreduce\u001b[0m\u001b[0;34m,\u001b[0m\u001b[0;34m\u001b[0m\u001b[0m\n\u001b[0;32m-> 4262\u001b[0;31m                         ignore_failures=ignore_failures)\n\u001b[0m\u001b[1;32m   4263\u001b[0m             \u001b[0;32melse\u001b[0m\u001b[0;34m:\u001b[0m\u001b[0;34m\u001b[0m\u001b[0m\n\u001b[1;32m   4264\u001b[0m                 \u001b[0;32mreturn\u001b[0m \u001b[0mself\u001b[0m\u001b[0;34m.\u001b[0m\u001b[0m_apply_broadcast\u001b[0m\u001b[0;34m(\u001b[0m\u001b[0mf\u001b[0m\u001b[0;34m,\u001b[0m \u001b[0maxis\u001b[0m\u001b[0;34m)\u001b[0m\u001b[0;34m\u001b[0m\u001b[0m\n",
      "\u001b[0;32m/usr/local/lib/python2.7/dist-packages/pandas/core/frame.pyc\u001b[0m in \u001b[0;36m_apply_standard\u001b[0;34m(self, func, axis, ignore_failures, reduce)\u001b[0m\n\u001b[1;32m   4356\u001b[0m             \u001b[0;32mtry\u001b[0m\u001b[0;34m:\u001b[0m\u001b[0;34m\u001b[0m\u001b[0m\n\u001b[1;32m   4357\u001b[0m                 \u001b[0;32mfor\u001b[0m \u001b[0mi\u001b[0m\u001b[0;34m,\u001b[0m \u001b[0mv\u001b[0m \u001b[0;32min\u001b[0m \u001b[0menumerate\u001b[0m\u001b[0;34m(\u001b[0m\u001b[0mseries_gen\u001b[0m\u001b[0;34m)\u001b[0m\u001b[0;34m:\u001b[0m\u001b[0;34m\u001b[0m\u001b[0m\n\u001b[0;32m-> 4358\u001b[0;31m                     \u001b[0mresults\u001b[0m\u001b[0;34m[\u001b[0m\u001b[0mi\u001b[0m\u001b[0;34m]\u001b[0m \u001b[0;34m=\u001b[0m \u001b[0mfunc\u001b[0m\u001b[0;34m(\u001b[0m\u001b[0mv\u001b[0m\u001b[0;34m)\u001b[0m\u001b[0;34m\u001b[0m\u001b[0m\n\u001b[0m\u001b[1;32m   4359\u001b[0m                     \u001b[0mkeys\u001b[0m\u001b[0;34m.\u001b[0m\u001b[0mappend\u001b[0m\u001b[0;34m(\u001b[0m\u001b[0mv\u001b[0m\u001b[0;34m.\u001b[0m\u001b[0mname\u001b[0m\u001b[0;34m)\u001b[0m\u001b[0;34m\u001b[0m\u001b[0m\n\u001b[1;32m   4360\u001b[0m             \u001b[0;32mexcept\u001b[0m \u001b[0mException\u001b[0m \u001b[0;32mas\u001b[0m \u001b[0me\u001b[0m\u001b[0;34m:\u001b[0m\u001b[0;34m\u001b[0m\u001b[0m\n",
      "\u001b[0;32m<ipython-input-53-f7c7468b4446>\u001b[0m in \u001b[0;36m<lambda>\u001b[0;34m(r)\u001b[0m\n\u001b[1;32m      1\u001b[0m \u001b[0mt_start\u001b[0m \u001b[0;34m=\u001b[0m \u001b[0mdefault_timer\u001b[0m\u001b[0;34m(\u001b[0m\u001b[0;34m)\u001b[0m\u001b[0;34m\u001b[0m\u001b[0m\n\u001b[0;32m----> 2\u001b[0;31m \u001b[0mdR_mu_jet\u001b[0m  \u001b[0;34m=\u001b[0m \u001b[0mdata\u001b[0m\u001b[0;34m.\u001b[0m\u001b[0mapply\u001b[0m\u001b[0;34m(\u001b[0m\u001b[0;32mlambda\u001b[0m \u001b[0mr\u001b[0m\u001b[0;34m:\u001b[0m \u001b[0mGetmindR_class\u001b[0m\u001b[0;34m(\u001b[0m\u001b[0mr\u001b[0m\u001b[0;34m[\u001b[0m\u001b[0;34m'muonCollection'\u001b[0m\u001b[0;34m]\u001b[0m     \u001b[0;34m,\u001b[0m \u001b[0mr\u001b[0m\u001b[0;34m[\u001b[0m\u001b[0;34m'jetCollection'\u001b[0m\u001b[0;34m]\u001b[0m\u001b[0;34m)\u001b[0m     \u001b[0;34m,\u001b[0m \u001b[0maxis\u001b[0m\u001b[0;34m=\u001b[0m\u001b[0;36m1\u001b[0m \u001b[0;34m)\u001b[0m\u001b[0;34m\u001b[0m\u001b[0m\n\u001b[0m\u001b[1;32m      3\u001b[0m \u001b[0mdR_jet_jet\u001b[0m \u001b[0;34m=\u001b[0m \u001b[0mdata\u001b[0m\u001b[0;34m.\u001b[0m\u001b[0mapply\u001b[0m\u001b[0;34m(\u001b[0m\u001b[0;32mlambda\u001b[0m \u001b[0mr\u001b[0m\u001b[0;34m:\u001b[0m \u001b[0mGetmindR_class\u001b[0m\u001b[0;34m(\u001b[0m\u001b[0mr\u001b[0m\u001b[0;34m[\u001b[0m\u001b[0;34m'jetCollection'\u001b[0m\u001b[0;34m]\u001b[0m      \u001b[0;34m,\u001b[0m \u001b[0mr\u001b[0m\u001b[0;34m[\u001b[0m\u001b[0;34m'jetCollection'\u001b[0m\u001b[0;34m]\u001b[0m\u001b[0;34m)\u001b[0m     \u001b[0;34m,\u001b[0m \u001b[0maxis\u001b[0m\u001b[0;34m=\u001b[0m\u001b[0;36m1\u001b[0m \u001b[0;34m)\u001b[0m\u001b[0;34m\u001b[0m\u001b[0m\n\u001b[1;32m      4\u001b[0m \u001b[0mdR_el_jet\u001b[0m  \u001b[0;34m=\u001b[0m \u001b[0mdata\u001b[0m\u001b[0;34m.\u001b[0m\u001b[0mapply\u001b[0m\u001b[0;34m(\u001b[0m\u001b[0;32mlambda\u001b[0m \u001b[0mr\u001b[0m\u001b[0;34m:\u001b[0m \u001b[0mGetmindR_class\u001b[0m\u001b[0;34m(\u001b[0m\u001b[0mr\u001b[0m\u001b[0;34m[\u001b[0m\u001b[0;34m'electronCollection'\u001b[0m\u001b[0;34m]\u001b[0m \u001b[0;34m,\u001b[0m \u001b[0mr\u001b[0m\u001b[0;34m[\u001b[0m\u001b[0;34m'jetCollection'\u001b[0m\u001b[0;34m]\u001b[0m\u001b[0;34m)\u001b[0m     \u001b[0;34m,\u001b[0m \u001b[0maxis\u001b[0m\u001b[0;34m=\u001b[0m\u001b[0;36m1\u001b[0m \u001b[0;34m)\u001b[0m\u001b[0;34m\u001b[0m\u001b[0m\n\u001b[1;32m      5\u001b[0m \u001b[0mdR_el_el\u001b[0m   \u001b[0;34m=\u001b[0m \u001b[0mdata\u001b[0m\u001b[0;34m.\u001b[0m\u001b[0mapply\u001b[0m\u001b[0;34m(\u001b[0m\u001b[0;32mlambda\u001b[0m \u001b[0mr\u001b[0m\u001b[0;34m:\u001b[0m \u001b[0mGetmindR_class\u001b[0m\u001b[0;34m(\u001b[0m\u001b[0mr\u001b[0m\u001b[0;34m[\u001b[0m\u001b[0;34m'electronCollection'\u001b[0m\u001b[0;34m]\u001b[0m \u001b[0;34m,\u001b[0m \u001b[0mr\u001b[0m\u001b[0;34m[\u001b[0m\u001b[0;34m'electronCollection'\u001b[0m\u001b[0;34m]\u001b[0m\u001b[0;34m)\u001b[0m\u001b[0;34m,\u001b[0m \u001b[0maxis\u001b[0m\u001b[0;34m=\u001b[0m\u001b[0;36m1\u001b[0m \u001b[0;34m)\u001b[0m\u001b[0;34m\u001b[0m\u001b[0m\n",
      "\u001b[0;32m<ipython-input-52-2f6ae2112cea>\u001b[0m in \u001b[0;36mGetmindR_class\u001b[0;34m(coll1, coll2)\u001b[0m\n\u001b[1;32m      7\u001b[0m         \u001b[0mall_pairs\u001b[0m \u001b[0;34m=\u001b[0m \u001b[0mlist\u001b[0m\u001b[0;34m(\u001b[0m \u001b[0mitertools\u001b[0m\u001b[0;34m.\u001b[0m\u001b[0mproduct\u001b[0m\u001b[0;34m(\u001b[0m\u001b[0mcoll1\u001b[0m\u001b[0;34m,\u001b[0m\u001b[0mcoll2\u001b[0m\u001b[0;34m)\u001b[0m \u001b[0;34m)\u001b[0m\u001b[0;34m\u001b[0m\u001b[0m\n\u001b[1;32m      8\u001b[0m     \u001b[0;32mif\u001b[0m\u001b[0;34m(\u001b[0m\u001b[0mlen\u001b[0m\u001b[0;34m(\u001b[0m\u001b[0mall_pairs\u001b[0m\u001b[0;34m)\u001b[0m\u001b[0;34m>\u001b[0m\u001b[0;36m0\u001b[0m\u001b[0;34m)\u001b[0m\u001b[0;34m:\u001b[0m\u001b[0;34m\u001b[0m\u001b[0m\n\u001b[0;32m----> 9\u001b[0;31m         \u001b[0;32mreturn\u001b[0m \u001b[0mnp\u001b[0m\u001b[0;34m.\u001b[0m\u001b[0mmin\u001b[0m\u001b[0;34m(\u001b[0m \u001b[0mGetdR_vec\u001b[0m\u001b[0;34m(\u001b[0m\u001b[0mnp\u001b[0m\u001b[0;34m.\u001b[0m\u001b[0marray\u001b[0m\u001b[0;34m(\u001b[0m\u001b[0mall_pairs\u001b[0m\u001b[0;34m)\u001b[0m\u001b[0;34m)\u001b[0m \u001b[0;34m)\u001b[0m\u001b[0;34m\u001b[0m\u001b[0m\n\u001b[0m\u001b[1;32m     10\u001b[0m     \u001b[0;32melse\u001b[0m\u001b[0;34m:\u001b[0m\u001b[0;34m\u001b[0m\u001b[0m\n\u001b[1;32m     11\u001b[0m         \u001b[0;32mreturn\u001b[0m \u001b[0;34m-\u001b[0m\u001b[0;36m1\u001b[0m\u001b[0;34m\u001b[0m\u001b[0m\n",
      "\u001b[0;32m/usr/lib/python2.7/dist-packages/numpy/lib/function_base.pyc\u001b[0m in \u001b[0;36m__call__\u001b[0;34m(self, *args, **kwargs)\u001b[0m\n\u001b[1;32m   2205\u001b[0m             \u001b[0mvargs\u001b[0m\u001b[0;34m.\u001b[0m\u001b[0mextend\u001b[0m\u001b[0;34m(\u001b[0m\u001b[0;34m[\u001b[0m\u001b[0mkwargs\u001b[0m\u001b[0;34m[\u001b[0m\u001b[0m_n\u001b[0m\u001b[0;34m]\u001b[0m \u001b[0;32mfor\u001b[0m \u001b[0m_n\u001b[0m \u001b[0;32min\u001b[0m \u001b[0mnames\u001b[0m\u001b[0;34m]\u001b[0m\u001b[0;34m)\u001b[0m\u001b[0;34m\u001b[0m\u001b[0m\n\u001b[1;32m   2206\u001b[0m \u001b[0;34m\u001b[0m\u001b[0m\n\u001b[0;32m-> 2207\u001b[0;31m         \u001b[0;32mreturn\u001b[0m \u001b[0mself\u001b[0m\u001b[0;34m.\u001b[0m\u001b[0m_vectorize_call\u001b[0m\u001b[0;34m(\u001b[0m\u001b[0mfunc\u001b[0m\u001b[0;34m=\u001b[0m\u001b[0mfunc\u001b[0m\u001b[0;34m,\u001b[0m \u001b[0margs\u001b[0m\u001b[0;34m=\u001b[0m\u001b[0mvargs\u001b[0m\u001b[0;34m)\u001b[0m\u001b[0;34m\u001b[0m\u001b[0m\n\u001b[0m\u001b[1;32m   2208\u001b[0m \u001b[0;34m\u001b[0m\u001b[0m\n\u001b[1;32m   2209\u001b[0m     \u001b[0;32mdef\u001b[0m \u001b[0m_get_ufunc_and_otypes\u001b[0m\u001b[0;34m(\u001b[0m\u001b[0mself\u001b[0m\u001b[0;34m,\u001b[0m \u001b[0mfunc\u001b[0m\u001b[0;34m,\u001b[0m \u001b[0margs\u001b[0m\u001b[0;34m)\u001b[0m\u001b[0;34m:\u001b[0m\u001b[0;34m\u001b[0m\u001b[0m\n",
      "\u001b[0;32m/usr/lib/python2.7/dist-packages/numpy/lib/function_base.pyc\u001b[0m in \u001b[0;36m_vectorize_call\u001b[0;34m(self, func, args)\u001b[0m\n\u001b[1;32m   2268\u001b[0m             \u001b[0m_res\u001b[0m \u001b[0;34m=\u001b[0m \u001b[0mfunc\u001b[0m\u001b[0;34m(\u001b[0m\u001b[0;34m)\u001b[0m\u001b[0;34m\u001b[0m\u001b[0m\n\u001b[1;32m   2269\u001b[0m         \u001b[0;32melse\u001b[0m\u001b[0;34m:\u001b[0m\u001b[0;34m\u001b[0m\u001b[0m\n\u001b[0;32m-> 2270\u001b[0;31m             \u001b[0mufunc\u001b[0m\u001b[0;34m,\u001b[0m \u001b[0motypes\u001b[0m \u001b[0;34m=\u001b[0m \u001b[0mself\u001b[0m\u001b[0;34m.\u001b[0m\u001b[0m_get_ufunc_and_otypes\u001b[0m\u001b[0;34m(\u001b[0m\u001b[0mfunc\u001b[0m\u001b[0;34m=\u001b[0m\u001b[0mfunc\u001b[0m\u001b[0;34m,\u001b[0m \u001b[0margs\u001b[0m\u001b[0;34m=\u001b[0m\u001b[0margs\u001b[0m\u001b[0;34m)\u001b[0m\u001b[0;34m\u001b[0m\u001b[0m\n\u001b[0m\u001b[1;32m   2271\u001b[0m \u001b[0;34m\u001b[0m\u001b[0m\n\u001b[1;32m   2272\u001b[0m             \u001b[0;31m# Convert args to object arrays first\u001b[0m\u001b[0;34m\u001b[0m\u001b[0;34m\u001b[0m\u001b[0m\n",
      "\u001b[0;32m/usr/lib/python2.7/dist-packages/numpy/lib/function_base.pyc\u001b[0m in \u001b[0;36m_get_ufunc_and_otypes\u001b[0;34m(self, func, args)\u001b[0m\n\u001b[1;32m   2230\u001b[0m             \u001b[0;31m# arrays (the input values are not checked to ensure this)\u001b[0m\u001b[0;34m\u001b[0m\u001b[0;34m\u001b[0m\u001b[0m\n\u001b[1;32m   2231\u001b[0m             \u001b[0minputs\u001b[0m \u001b[0;34m=\u001b[0m \u001b[0;34m[\u001b[0m\u001b[0masarray\u001b[0m\u001b[0;34m(\u001b[0m\u001b[0m_a\u001b[0m\u001b[0;34m)\u001b[0m\u001b[0;34m.\u001b[0m\u001b[0mflat\u001b[0m\u001b[0;34m[\u001b[0m\u001b[0;36m0\u001b[0m\u001b[0;34m]\u001b[0m \u001b[0;32mfor\u001b[0m \u001b[0m_a\u001b[0m \u001b[0;32min\u001b[0m \u001b[0margs\u001b[0m\u001b[0;34m]\u001b[0m\u001b[0;34m\u001b[0m\u001b[0m\n\u001b[0;32m-> 2232\u001b[0;31m             \u001b[0moutputs\u001b[0m \u001b[0;34m=\u001b[0m \u001b[0mfunc\u001b[0m\u001b[0;34m(\u001b[0m\u001b[0;34m*\u001b[0m\u001b[0minputs\u001b[0m\u001b[0;34m)\u001b[0m\u001b[0;34m\u001b[0m\u001b[0m\n\u001b[0m\u001b[1;32m   2233\u001b[0m \u001b[0;34m\u001b[0m\u001b[0m\n\u001b[1;32m   2234\u001b[0m             \u001b[0;31m# Performance note: profiling indicates that -- for simple\u001b[0m\u001b[0;34m\u001b[0m\u001b[0;34m\u001b[0m\u001b[0m\n",
      "\u001b[0;32m<ipython-input-22-43304580ca53>\u001b[0m in \u001b[0;36mGetdR\u001b[0;34m(jet_pair)\u001b[0m\n\u001b[1;32m      1\u001b[0m \u001b[0;31m# Usual dR\u001b[0m\u001b[0;34m\u001b[0m\u001b[0;34m\u001b[0m\u001b[0m\n\u001b[1;32m      2\u001b[0m \u001b[0;32mdef\u001b[0m \u001b[0mGetdR\u001b[0m\u001b[0;34m(\u001b[0m\u001b[0mjet_pair\u001b[0m\u001b[0;34m)\u001b[0m\u001b[0;34m:\u001b[0m\u001b[0;34m\u001b[0m\u001b[0m\n\u001b[0;32m----> 3\u001b[0;31m     \u001b[0;32mreturn\u001b[0m \u001b[0mnp\u001b[0m\u001b[0;34m.\u001b[0m\u001b[0mhypot\u001b[0m\u001b[0;34m(\u001b[0m \u001b[0mjet_pair\u001b[0m\u001b[0;34m[\u001b[0m\u001b[0;36m0\u001b[0m\u001b[0;34m]\u001b[0m\u001b[0;34m.\u001b[0m\u001b[0meta\u001b[0m\u001b[0;34m-\u001b[0m\u001b[0mjet_pair\u001b[0m\u001b[0;34m[\u001b[0m\u001b[0;36m1\u001b[0m\u001b[0;34m]\u001b[0m\u001b[0;34m.\u001b[0m\u001b[0meta\u001b[0m\u001b[0;34m,\u001b[0m \u001b[0mjet_pair\u001b[0m\u001b[0;34m[\u001b[0m\u001b[0;36m0\u001b[0m\u001b[0;34m]\u001b[0m\u001b[0;34m.\u001b[0m\u001b[0mphi\u001b[0m\u001b[0;34m-\u001b[0m\u001b[0mjet_pair\u001b[0m\u001b[0;34m[\u001b[0m\u001b[0;36m1\u001b[0m\u001b[0;34m]\u001b[0m\u001b[0;34m.\u001b[0m\u001b[0mphi\u001b[0m \u001b[0;34m)\u001b[0m\u001b[0;34m\u001b[0m\u001b[0m\n\u001b[0m\u001b[1;32m      4\u001b[0m \u001b[0;34m\u001b[0m\u001b[0m\n\u001b[1;32m      5\u001b[0m \u001b[0;31m# weighted-pT dR computation\u001b[0m\u001b[0;34m\u001b[0m\u001b[0;34m\u001b[0m\u001b[0m\n",
      "\u001b[0;31mTypeError\u001b[0m: (\"'Muon' object does not support indexing\", u'occurred at index 0')"
     ]
    }
   ],
   "source": [
    "t_start = default_timer()\n",
    "dR_mu_jet  = data.apply(lambda r: GetmindR_class(r['muonCollection']     , r['jetCollection'])     , axis=1 )\n",
    "dR_jet_jet = data.apply(lambda r: GetmindR_class(r['jetCollection']      , r['jetCollection'])     , axis=1 )\n",
    "dR_el_jet  = data.apply(lambda r: GetmindR_class(r['electronCollection'] , r['jetCollection'])     , axis=1 )\n",
    "dR_el_el   = data.apply(lambda r: GetmindR_class(r['electronCollection'] , r['electronCollection']), axis=1 )\n",
    "t_stop  = default_timer()\n",
    "print (' --> done in {:.2f}s \\n'.format( t_stop-t_start ) )"
   ]
  },
  {
   "cell_type": "code",
   "execution_count": 37,
   "metadata": {},
   "outputs": [
    {
     "name": "stdout",
     "output_type": "stream",
     "text": [
      " --> done in 11.45s \n",
      "\n"
     ]
    }
   ],
   "source": [
    "t_start = default_timer()\n",
    "dR_mu_jet  = data.apply(lambda r: GetmindR_flat(r['mu_eta'] , r['jet_eta'], r['mu_phi'] , r['jet_phi']) , axis=1 )\n",
    "dR_jet_jet = data.apply(lambda r: GetmindR_flat(r['jet_eta'], r['jet_eta'], r['jet_phi'], r['jet_phi']) , axis=1 )\n",
    "dR_el_jet  = data.apply(lambda r: GetmindR_flat(r['el_eta'] , r['jet_eta'], r['el_phi'] , r['jet_phi']) , axis=1 )\n",
    "dR_el_el   = data.apply(lambda r: GetmindR_flat(r['el_eta'] , r['el_eta'] , r['el_phi'] , r['el_phi'])  , axis=1 )\n",
    "t_stop  = default_timer()\n",
    "print (' --> done in {:.2f}s \\n'.format( t_stop-t_start ) )"
   ]
  },
  {
   "cell_type": "code",
   "execution_count": 38,
   "metadata": {},
   "outputs": [
    {
     "data": {
      "image/png": "[encoded data removed]",
      "text/plain": [
       "<matplotlib.figure.Figure at 0x7f37a57ca650>"
      ]
     },
     "metadata": {},
     "output_type": "display_data"
    }
   ],
   "source": [
    "plt.figure(figsize=(10,7))\n",
    "hist_args = {'bins':100, 'alpha':0.8, 'density':True, 'histtype':'step', 'linewidth':3}\n",
    "ax=plt.hist(dR_mu_jet[dR_mu_jet>0]  , label='$dR(\\mu,j)$', **hist_args)\n",
    "ax=plt.hist(dR_el_jet[dR_el_jet>0]  , label='$dR(e,j)$'  , **hist_args)\n",
    "ax=plt.hist(dR_jet_jet[dR_jet_jet>0], label='$dR(j,j)$'  , **hist_args)\n",
    "plt.xlabel('min$_{\\{i,j\\}}$$\\{dR(obj_i, obj_j)\\}$')\n",
    "plt.ylabel('PDF')\n",
    "plt.yscale('log', nonposy='clip')\n",
    "plt.legend()\n",
    "plt.tight_layout()"
   ]
  },
  {
   "cell_type": "markdown",
   "metadata": {
    "collapsed": true
   },
   "source": [
    "## Test of parallelization"
   ]
  },
  {
   "cell_type": "markdown",
   "metadata": {},
   "source": [
    "### Function definition"
   ]
  },
  {
   "cell_type": "code",
   "execution_count": null,
   "metadata": {},
   "outputs": [],
   "source": [
    "def summed(cols):\n",
    "    return cols['ht']+cols['met_met']\n",
    "\n",
    "def compute_manydR_class(c):\n",
    "    dRmj=GetmindR_class(c['muonCollection']     , c['jetCollection'])\n",
    "    dRjj=GetmindR_class(c['jetCollection']      , c['jetCollection'])\n",
    "    dRej=GetmindR_class(c['electronCollection'] , c['jetCollection'])\n",
    "    dRee=GetmindR_class(c['electronCollection'] , c['electronCollection'])\n",
    "    return dRmj,dRjj,dRej,dRee\n",
    "\n",
    "def compute_manydR_flat(c):\n",
    "    dRmj=GetmindR_flat(c['mu_eta'] , c['jet_eta'], c['mu_phi'] , c['jet_phi'])\n",
    "    dRjj=GetmindR_flat(c['jet_eta'], c['jet_eta'], c['jet_phi'], c['jet_phi'])\n",
    "    dRej=GetmindR_flat(c['el_eta'] , c['jet_eta'], c['el_phi'] , c['jet_phi'])\n",
    "    dRee=GetmindR_flat(c['el_eta'] , c['el_eta'] , c['el_phi'] , c['el_phi'])\n",
    "    return dRmj,dRjj,dRej,dRee"
   ]
  },
  {
   "cell_type": "markdown",
   "metadata": {},
   "source": [
    "### First implementation (doesn't work with all argument of apply)"
   ]
  },
  {
   "cell_type": "code",
   "execution_count": null,
   "metadata": {},
   "outputs": [],
   "source": [
    "from multiprocessing import cpu_count, Pool\n",
    " \n",
    "cores = cpu_count() #Number of CPU cores on your system\n",
    "\n",
    "def parallelize(df, func, partitions):\n",
    "    data_split = np.array_split(df, partitions)\n",
    "    pool = Pool(cores)\n",
    "    df = pd.concat(pool.map(func, data_split))\n",
    "    pool.close()\n",
    "    pool.join()\n",
    "    del data_split\n",
    "    return df"
   ]
  },
  {
   "cell_type": "code",
   "execution_count": null,
   "metadata": {
    "scrolled": true
   },
   "outputs": [],
   "source": [
    "data1d = data[['ht','met_met','nlep','njets']]\n",
    "\n",
    "t_start = default_timer()\n",
    "parallelize(data1d, summed, 8)\n",
    "t_stop  = default_timer()\n",
    "print (' --> done in {:.2f}s \\n'.format( t_stop-t_start ) )\n",
    "\n",
    "t_start = default_timer()\n",
    "data1d.apply(summed,axis=1)\n",
    "t_stop  = default_timer()\n",
    "print (' --> done in {:.2f}s \\n'.format( t_stop-t_start ) )"
   ]
  },
  {
   "cell_type": "markdown",
   "metadata": {},
   "source": [
    "### Second implementation - seems to work for complex function"
   ]
  },
  {
   "cell_type": "code",
   "execution_count": null,
   "metadata": {},
   "outputs": [],
   "source": [
    "def _apply_df(args):\n",
    "    df, func, kwargs = args\n",
    "    return df.apply(func, **kwargs)\n",
    "\n",
    "def apply_by_multiprocessing(df, func, **kwargs):\n",
    "    workers = kwargs.pop('workers')\n",
    "    pool    = Pool(processes=workers)\n",
    "    result  = pool.map(_apply_df, [(d, func, kwargs) for d in np.array_split(df, workers)] )\n",
    "    pool.close()\n",
    "    return pd.concat(list(result))"
   ]
  },
  {
   "cell_type": "code",
   "execution_count": null,
   "metadata": {},
   "outputs": [],
   "source": [
    "data1d = data[['ht','met_met','nlep','njets']]\n",
    "\n",
    "t_start = default_timer()\n",
    "apply_by_multiprocessing(data1d, summed, axis=1, workers=8)\n",
    "t_stop  = default_timer()\n",
    "print (' --> done in {:.2f}s \\n'.format( t_stop-t_start ) )\n",
    "\n",
    "t_start = default_timer()\n",
    "data1d.apply(summed,axis=1)\n",
    "t_stop  = default_timer()\n",
    "print (' --> done in {:.2f}s \\n'.format( t_stop-t_start ) )"
   ]
  },
  {
   "cell_type": "code",
   "execution_count": null,
   "metadata": {},
   "outputs": [],
   "source": [
    "t_start = default_timer()\n",
    "test = apply_by_multiprocessing(data, compute_manydR_class, axis=1, workers=8)\n",
    "t_stop  = default_timer()\n",
    "print (' --> done in {:.2f}s \\n'.format( t_stop-t_start ) )"
   ]
  },
  {
   "cell_type": "code",
   "execution_count": null,
   "metadata": {},
   "outputs": [],
   "source": [
    "t_start = default_timer()\n",
    "test = data.apply( compute_manydR_class, axis=1)\n",
    "t_stop  = default_timer()\n",
    "print (' --> done in {:.2f}s \\n'.format( t_stop-t_start ) )"
   ]
  },
  {
   "cell_type": "code",
   "execution_count": null,
   "metadata": {},
   "outputs": [],
   "source": [
    "t_start = default_timer()\n",
    "test = apply_by_multiprocessing(data, compute_manydR_flat, axis=1, workers=8)\n",
    "t_stop  = default_timer()\n",
    "print (' --> done in {:.2f}s \\n'.format( t_stop-t_start ) )"
   ]
  },
  {
   "cell_type": "code",
   "execution_count": null,
   "metadata": {},
   "outputs": [],
   "source": [
    "t_start = default_timer()\n",
    "test = data.apply( compute_manydR_flat, axis=1)\n",
    "t_stop  = default_timer()\n",
    "print (' --> done in {:.2f}s \\n'.format( t_stop-t_start ) )"
   ]
  },
  {
   "cell_type": "code",
   "execution_count": null,
   "metadata": {
    "scrolled": true
   },
   "outputs": [],
   "source": [
    "t_start = default_timer()\n",
    "cProfile.run( 'data.apply( compute_manydR_flat, axis=1)' )\n",
    "t_stop  = default_timer()\n",
    "print (' --> done in {:.2f}s \\n'.format( t_stop-t_start ) )"
   ]
  },
  {
   "cell_type": "code",
   "execution_count": null,
   "metadata": {
    "scrolled": true
   },
   "outputs": [],
   "source": [
    "t_start = default_timer()\n",
    "cProfile.run( 'apply_by_multiprocessing(data, compute_manydR_flat, axis=1, workers=8)' )\n",
    "t_stop  = default_timer()\n",
    "print (' --> done in {:.2f}s \\n'.format( t_stop-t_start ) )"
   ]
  }
 ],
 "metadata": {
  "kernelspec": {
   "display_name": "Python 2",
   "language": "python",
   "name": "python2"
  },
  "language_info": {
   "codemirror_mode": {
    "name": "ipython",
    "version": 2
   },
   "file_extension": ".py",
   "mimetype": "text/x-python",
   "name": "python",
   "nbconvert_exporter": "python",
   "pygments_lexer": "ipython2",
   "version": "2.7.12"
  }
 },
 "nbformat": 4,
 "nbformat_minor": 2
}
