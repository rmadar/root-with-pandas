{
 "cells": [
  {
   "cell_type": "code",
   "execution_count": 14,
   "metadata": {},
   "outputs": [],
   "source": [
    "# Disable warnings\n",
    "import warnings\n",
    "warnings.filterwarnings('ignore')\n",
    "\n",
    "# Parallelization\n",
    "import ipyparallel\n",
    "\n",
    "# Time profiling\n",
    "import cProfile\n",
    "from   timeit import default_timer\n",
    "\n",
    "# Combinatorics tool\n",
    "import itertools\n",
    "\n",
    "# Usual library\n",
    "import numpy             as np\n",
    "import pandas            as pd\n",
    "import matplotlib        as mpl\n",
    "import matplotlib.pyplot as plt\n",
    "%matplotlib inline\n",
    "\n",
    "# Plot settings\n",
    "mpl.rcParams['legend.frameon' ] = False\n",
    "mpl.rcParams['legend.fontsize'] = 'xx-large'\n",
    "mpl.rcParams['xtick.labelsize'] = 16\n",
    "mpl.rcParams['ytick.labelsize'] = 16\n",
    "mpl.rcParams['axes.titlesize' ] = 18\n",
    "mpl.rcParams['axes.labelsize' ] = 18\n",
    "mpl.rcParams['lines.linewidth'] = 2.5"
   ]
  },
  {
   "cell_type": "code",
   "execution_count": 15,
   "metadata": {
    "scrolled": true
   },
   "outputs": [
    {
     "name": "stdout",
     "output_type": "stream",
     "text": [
      "('profile:', u'default')\n",
      "('IDs:', [0, 1, 2, 3])\n"
     ]
    }
   ],
   "source": [
    "cluster = ipyparallel.Client(profile='default')\n",
    "print('profile:', cluster.profile)\n",
    "print(\"IDs:\", cluster.ids) # Print process id numbers"
   ]
  },
  {
   "cell_type": "code",
   "execution_count": 16,
   "metadata": {
    "scrolled": true
   },
   "outputs": [
    {
     "name": "stdout",
     "output_type": "stream",
     "text": [
      "<DirectView [0, 1, 2, 3]>\n"
     ]
    }
   ],
   "source": [
    "dview = cluster[:]\n",
    "print(dview)"
   ]
  },
  {
   "cell_type": "code",
   "execution_count": 24,
   "metadata": {
    "scrolled": true
   },
   "outputs": [
    {
     "name": "stdout",
     "output_type": "stream",
     "text": [
      "12497500\n"
     ]
    }
   ],
   "source": [
    "def test_function(a):\n",
    "    x=a[0]\n",
    "    y=a[1]\n",
    "    return x**2+(y**2+1)*x*y\n",
    "\n",
    "arg = [ [x,y] for (x,y) in itertools.combinations(range(5000),2) ]\n",
    "print( len(arg) )"
   ]
  },
  {
   "cell_type": "code",
   "execution_count": 26,
   "metadata": {},
   "outputs": [
    {
     "name": "stdout",
     "output_type": "stream",
     "text": [
      "12497500\n",
      " --> done in 3.67s \n",
      "\n"
     ]
    }
   ],
   "source": [
    "t_start = default_timer()\n",
    "serial_result   = list(map(test_function, arg ) )\n",
    "print(len(serial_result))\n",
    "t_stop  = default_timer()\n",
    "del serial_result\n",
    "print (' --> done in {:.2f}s \\n'.format( t_stop-t_start ) )"
   ]
  },
  {
   "cell_type": "code",
   "execution_count": 27,
   "metadata": {},
   "outputs": [
    {
     "name": "stdout",
     "output_type": "stream",
     "text": [
      " --> done in 45.23s \n",
      "\n"
     ]
    }
   ],
   "source": [
    "t_start = default_timer()\n",
    "parallel_result = dview.map_sync(test_function, arg)\n",
    "t_stop  = default_timer()\n",
    "del parallel_result\n",
    "print (' --> done in {:.2f}s \\n'.format( t_stop-t_start ) )"
   ]
  },
  {
   "cell_type": "code",
   "execution_count": null,
   "metadata": {},
   "outputs": [],
   "source": []
  },
  {
   "cell_type": "code",
   "execution_count": null,
   "metadata": {},
   "outputs": [],
   "source": []
  },
  {
   "cell_type": "code",
   "execution_count": null,
   "metadata": {},
   "outputs": [],
   "source": []
  },
  {
   "cell_type": "code",
   "execution_count": null,
   "metadata": {},
   "outputs": [],
   "source": [
    "# root_numpy (http://scikit-hep.org/root_numpy)\n",
    "from   root_numpy import root2array\n",
    "import pandautils as     pup\n",
    "\n",
    "# Define some classes\n",
    "class Jet(object):\n",
    "    \"\"\"\n",
    "    Jet Class\n",
    "    \"\"\"\n",
    "    def __init__(self, pt = 0 , eta = 0, phi = 0, m = 0):\n",
    "        super(Jet, self).__init__()\n",
    "        \n",
    "        self._pt = pt\n",
    "        self._eta = eta\n",
    "        self._phi = phi\n",
    "        self._m = m\n",
    "        \n",
    "    def __str__(self):\n",
    "        return 'jet(pT,eta,phi,m)=({:.2f},{:.2f},{:.2f},{:.2f})'.format(self._pt, self._eta, self._phi, self._m)\n",
    "        \n",
    "    @property\n",
    "    def pt(self):\n",
    "        return self._pt\n",
    "        \n",
    "    @property\n",
    "    def eta(self):\n",
    "        return self._eta\n",
    "\n",
    "    @property\n",
    "    def phi(self):\n",
    "        return self._phi\n",
    "        \n",
    "    @property\n",
    "    def m(self):\n",
    "        return self._m\n",
    "    \n",
    "    \n",
    "class Muon(object):\n",
    "    \"\"\"\n",
    "    Muon Class\n",
    "    \"\"\"\n",
    "    def __init__(self, pt = 0 , eta = 0, phi = 0):\n",
    "        super(Muon, self).__init__()\n",
    "        self._pt = pt\n",
    "        self._eta = eta\n",
    "        self._phi = phi\n",
    "        \n",
    "    def __str__(self):\n",
    "        return 'mu(pT,eta,phi)=({:.2f},{:.2f},{:.2f})'.format(self._pt, self._eta, self._phi)\n",
    "        \n",
    "    @property\n",
    "    def pt(self):\n",
    "        return self._pt\n",
    "        \n",
    "    @property\n",
    "    def eta(self):\n",
    "        return self._eta\n",
    "\n",
    "    @property\n",
    "    def phi(self):\n",
    "        return self._phi\n",
    "\n",
    "    \n",
    "class Electron(object):\n",
    "    \"\"\"\n",
    "    Electron Class\n",
    "    \"\"\"\n",
    "    def __init__(self, pt = 0 , eta = 0, phi = 0):\n",
    "        super(Electron, self).__init__()\n",
    "        self._pt = pt\n",
    "        self._eta = eta\n",
    "        self._phi = phi\n",
    "        \n",
    "    def __str__(self):\n",
    "        return 'el(pT,eta,phi)=({:.2f},{:.2f},{:.2f})'.format(self._pt, self._eta, self._phi)\n",
    "        \n",
    "    @property\n",
    "    def pt(self):\n",
    "        return self._pt\n",
    "        \n",
    "    @property\n",
    "    def eta(self):\n",
    "        return self._eta\n",
    "\n",
    "    @property\n",
    "    def phi(self):\n",
    "        return self._phi"
   ]
  },
  {
   "cell_type": "code",
   "execution_count": null,
   "metadata": {},
   "outputs": [],
   "source": [
    "data = pd.DataFrame( root2array('VectorNtuple_4topSM.root', 'nominal_Loose').view(np.recarray) )"
   ]
  },
  {
   "cell_type": "code",
   "execution_count": null,
   "metadata": {},
   "outputs": [],
   "source": [
    "def add_objectCollection(obj,kinem_name,collection_name):\n",
    "    obj_array = [ obj(pt, eta, phi) for (pt, eta, phi) in zip(\n",
    "        pup.flatten(data[kinem_name[0]]),\n",
    "        pup.flatten(data[kinem_name[1]]),\n",
    "        pup.flatten(data[kinem_name[2]])\n",
    "    )]\n",
    "    objects = np.array( pup.match_shape( np.array(obj_array) , data[kinem_name[0]] ) )\n",
    "    data[collection_name] = objects\n",
    "    return\n",
    "\n",
    "t_start = default_timer()\n",
    "add_objectCollection(Jet     ,['jet_pt','jet_eta','jet_phi'],'jetCollection' )\n",
    "add_objectCollection(Muon    ,['mu_pt' ,'mu_eta' ,'mu_phi' ],'muonCollection')\n",
    "add_objectCollection(Electron,['el_pt' ,'el_eta' ,'el_phi' ],'electronCollection')"
   ]
  },
  {
   "cell_type": "code",
   "execution_count": null,
   "metadata": {},
   "outputs": [],
   "source": [
    "def GetdR(j1,j2):\n",
    "    return np.sqrt( np.square(j1.eta-j2.eta)+ np.square(j1.phi-j2.phi) )\n",
    "\n",
    "def GetmindR_class(coll1,coll2):\n",
    "    if (np.array_equal(coll1,coll2)): \n",
    "        all_pairs = list(itertools.combinations(coll1,2))\n",
    "    else:\n",
    "        all_pairs = list( itertools.product(coll1,coll2) )\n",
    "    if(len(all_pairs)>0):\n",
    "        return np.min([GetdR(o1,o2) for (o1,o2) in all_pairs] )\n",
    "    else:\n",
    "        return -1\n",
    "\n",
    "def compute_manydR_class(c):\n",
    "    dRmj=GetmindR_class(c['muonCollection']     , c['jetCollection'])\n",
    "    dRjj=GetmindR_class(c['jetCollection']      , c['jetCollection'])\n",
    "    dRej=GetmindR_class(c['electronCollection'] , c['jetCollection'])\n",
    "    dRee=GetmindR_class(c['electronCollection'] , c['electronCollection'])\n",
    "    return dRmj,dRjj,dRej,dRee"
   ]
  },
  {
   "cell_type": "code",
   "execution_count": null,
   "metadata": {},
   "outputs": [],
   "source": [
    "t_start = default_timer()\n",
    "test = data.apply( compute_manydR_class, axis=1 )\n",
    "t_stop  = default_timer()\n",
    "print (' --> done in {:.2f}s \\n'.format( t_stop-t_start ) )"
   ]
  },
  {
   "cell_type": "code",
   "execution_count": null,
   "metadata": {},
   "outputs": [],
   "source": [
    "\n"
   ]
  },
  {
   "cell_type": "code",
   "execution_count": null,
   "metadata": {},
   "outputs": [],
   "source": []
  }
 ],
 "metadata": {
  "kernelspec": {
   "display_name": "Python 2",
   "language": "python",
   "name": "python2"
  },
  "language_info": {
   "codemirror_mode": {
    "name": "ipython",
    "version": 2
   },
   "file_extension": ".py",
   "mimetype": "text/x-python",
   "name": "python",
   "nbconvert_exporter": "python",
   "pygments_lexer": "ipython2",
   "version": "2.7.12"
  }
 },
 "nbformat": 4,
 "nbformat_minor": 2
}
