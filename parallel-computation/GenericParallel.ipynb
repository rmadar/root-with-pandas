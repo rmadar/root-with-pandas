{
 "cells": [
  {
   "cell_type": "markdown",
   "metadata": {},
   "source": [
    "# Trying out different tool to parallelize operations"
   ]
  },
  {
   "cell_type": "markdown",
   "metadata": {},
   "source": [
    "## Usual imports"
   ]
  },
  {
   "cell_type": "code",
   "execution_count": 1,
   "metadata": {},
   "outputs": [],
   "source": [
    "# Disable warnings\n",
    "import warnings\n",
    "warnings.filterwarnings('ignore')\n",
    "\n",
    "# Time profiling\n",
    "import cProfile\n",
    "from   timeit import default_timer\n",
    "import time \n",
    "\n",
    "# Combinatorics tool\n",
    "import itertools\n",
    "\n",
    "# Usual library\n",
    "import numpy  as np\n",
    "import pandas as pd"
   ]
  },
  {
   "cell_type": "code",
   "execution_count": 2,
   "metadata": {
    "scrolled": false
   },
   "outputs": [
    {
     "name": "stdout",
     "output_type": "stream",
     "text": [
      "100000\n",
      "[0, 1, 5, 14, 30, 55, 91, 140, 204, 285]\n"
     ]
    }
   ],
   "source": [
    "def CPUcosting_function(a,base=0):\n",
    "    import numpy as np\n",
    "    import time\n",
    "    start = time.time() - base\n",
    "    res=0\n",
    "    Nloop=int(a[0]+a[1])\n",
    "    for i in range(Nloop):\n",
    "        res+= i**2 \n",
    "        \n",
    "    stop = time.time() - base\n",
    "    return start,stop,res\n",
    "\n",
    "big_array = [ [x,y] for (x,y) in itertools.combinations(range(2000),2) ]\n",
    "\n",
    "Nmax=100000\n",
    "big_array = big_array[0:Nmax]\n",
    "print( len(big_array) )\n",
    "\n",
    "# Example of function result on first 10th elements\n",
    "resEx = [CPUcosting_function(x) for x in big_array[0:10]]\n",
    "print([r[2] for r in resEx])"
   ]
  },
  {
   "cell_type": "markdown",
   "metadata": {},
   "source": [
    "## Interlude: an example with map(func,array)"
   ]
  },
  {
   "cell_type": "code",
   "execution_count": 3,
   "metadata": {},
   "outputs": [
    {
     "data": {
      "text/plain": [
       "[14, 30, 204]"
      ]
     },
     "execution_count": 3,
     "metadata": {},
     "output_type": "execute_result"
    }
   ],
   "source": [
    "# Exemple with map to apply a function to each elements\n",
    "items = [ [1,3], [2,3], [4,5] ]\n",
    "\n",
    "def sqr(x):\n",
    "    sum_squared=0\n",
    "    Nloop = int(x[0]+x[1])\n",
    "    for i in range( Nloop ):\n",
    "        sum_squared+=i**2\n",
    "    return sum_squared\n",
    "\n",
    "list(map(sqr, items))"
   ]
  },
  {
   "cell_type": "markdown",
   "metadata": {},
   "source": [
    "## Testing ipyparallel module"
   ]
  },
  {
   "cell_type": "markdown",
   "metadata": {},
   "source": [
    "### Setting up workers"
   ]
  },
  {
   "cell_type": "code",
   "execution_count": 4,
   "metadata": {
    "scrolled": true
   },
   "outputs": [
    {
     "name": "stdout",
     "output_type": "stream",
     "text": [
      "('profile:', u'default')\n",
      "('IDs:', [0, 1, 2, 3])\n"
     ]
    }
   ],
   "source": [
    "# Parallelization with ipyparallel\n",
    "import ipyparallel\n",
    "\n",
    "cluster = ipyparallel.Client(profile='default')\n",
    "print( 'profile:', cluster.profile)\n",
    "print( 'IDs:'    , cluster.ids    ) # Print process id numbers"
   ]
  },
  {
   "cell_type": "code",
   "execution_count": 5,
   "metadata": {
    "scrolled": false
   },
   "outputs": [
    {
     "name": "stdout",
     "output_type": "stream",
     "text": [
      "<DirectView [0, 1, 2, 3]>\n"
     ]
    }
   ],
   "source": [
    "dview = cluster[:]\n",
    "print(dview)"
   ]
  },
  {
   "cell_type": "markdown",
   "metadata": {},
   "source": [
    "### Time comparison"
   ]
  },
  {
   "cell_type": "code",
   "execution_count": 6,
   "metadata": {},
   "outputs": [
    {
     "name": "stdout",
     "output_type": "stream",
     "text": [
      "1 loop, best of 3: 8.39 s per loop\n"
     ]
    }
   ],
   "source": [
    "%timeit -n 1 list(map(CPUcosting_function, big_array))"
   ]
  },
  {
   "cell_type": "code",
   "execution_count": 7,
   "metadata": {},
   "outputs": [
    {
     "name": "stdout",
     "output_type": "stream",
     "text": [
      "1 loop, best of 3: 104 ms per loop\n"
     ]
    }
   ],
   "source": [
    "%timeit -n 1 dview.map(CPUcosting_function, big_array)"
   ]
  },
  {
   "cell_type": "code",
   "execution_count": 8,
   "metadata": {},
   "outputs": [
    {
     "name": "stdout",
     "output_type": "stream",
     "text": [
      "1 loop, best of 3: 9.69 s per loop\n"
     ]
    }
   ],
   "source": [
    "%timeit -n 1 np.apply_along_axis(CPUcosting_function, 1, big_array)"
   ]
  },
  {
   "cell_type": "code",
   "execution_count": 9,
   "metadata": {},
   "outputs": [
    {
     "name": "stdout",
     "output_type": "stream",
     "text": [
      "1 loop, best of 3: 411 ms per loop\n"
     ]
    }
   ],
   "source": [
    "%timeit -n 1 dview.apply(CPUcosting_function, big_array)"
   ]
  },
  {
   "cell_type": "markdown",
   "metadata": {},
   "source": [
    "### Result comparison"
   ]
  },
  {
   "cell_type": "code",
   "execution_count": 10,
   "metadata": {},
   "outputs": [
    {
     "name": "stdout",
     "output_type": "stream",
     "text": [
      "[650, 819, 1015, 1240, 1496, 1785]\n"
     ]
    }
   ],
   "source": [
    "res = list(map(CPUcosting_function, big_array))\n",
    "print([r[2] for r in res][12:18])"
   ]
  },
  {
   "cell_type": "code",
   "execution_count": 11,
   "metadata": {},
   "outputs": [
    {
     "name": "stdout",
     "output_type": "stream",
     "text": [
      "[650, 819, 1015, 1240, 1496, 1785]\n"
     ]
    }
   ],
   "source": [
    "res = dview.map(CPUcosting_function, big_array)\n",
    "print([r[2] for r in res][12:18])"
   ]
  },
  {
   "cell_type": "code",
   "execution_count": 12,
   "metadata": {
    "scrolled": true
   },
   "outputs": [
    {
     "name": "stdout",
     "output_type": "stream",
     "text": [
      "[650, 819, 1015, 1240, 1496, 1785]\n"
     ]
    }
   ],
   "source": [
    "res = np.apply_along_axis(CPUcosting_function, 1, big_array)\n",
    "print([int(r[2]) for r in res][12:18])"
   ]
  },
  {
   "cell_type": "code",
   "execution_count": 13,
   "metadata": {},
   "outputs": [
    {
     "name": "stdout",
     "output_type": "stream",
     "text": [
      "<AsyncResult: CPUcosting_function>\n"
     ]
    },
    {
     "ename": "CompositeError",
     "evalue": "one or more exceptions from call to method: CPUcosting_function\n[0:apply]: TypeError: int() argument must be a string or a number, not 'list'",
     "output_type": "error",
     "traceback": [
      "[0:apply]: ",
      "\u001b[0;31m\u001b[0m\u001b[0;31mTypeError\u001b[0mTraceback (most recent call last)\u001b[0;32m<string>\u001b[0m in \u001b[0;36m<module>\u001b[0;34m()\u001b[0m",
      "\u001b[0;32m<ipython-input-2-9d87dd2243a5>\u001b[0m in \u001b[0;36mCPUcosting_function\u001b[0;34m(a, base)\u001b[0m",
      "\u001b[0;31mTypeError\u001b[0m: int() argument must be a string or a number, not 'list'",
      ""
     ]
    }
   ],
   "source": [
    "res = dview.apply(CPUcosting_function, big_array)\n",
    "print(res)\n",
    "print([r[2] for r in res][12:15])"
   ]
  },
  {
   "cell_type": "markdown",
   "metadata": {},
   "source": [
    "## Testing concurrent module\n",
    "\n",
    "This notebook is highly inspired from https://github.com/bfortuner/ml-study/blob/master/multitasking_python.ipynb"
   ]
  },
  {
   "cell_type": "code",
   "execution_count": 14,
   "metadata": {},
   "outputs": [],
   "source": [
    "from concurrent.futures import ProcessPoolExecutor, ThreadPoolExecutor\n",
    "\n",
    "def multithreading(func, args, workers):\n",
    "    begin_time = time.time()\n",
    "    executor = ThreadPoolExecutor(max_workers=workers)\n",
    "    exec_res = executor.map( func, args, [begin_time for i in range(len(args))] )\n",
    "    return list(exec_res)\n",
    "\n",
    "def multiprocessing(func, args, workers):\n",
    "    begin_time = time.time()\n",
    "    with ProcessPoolExecutor(max_workers=workers) as executor:\n",
    "        exec_res = executor.map( func, args, [begin_time for i in range(len(args))] )\n",
    "    return list(exec_res)"
   ]
  },
  {
   "cell_type": "code",
   "execution_count": 15,
   "metadata": {},
   "outputs": [
    {
     "name": "stdout",
     "output_type": "stream",
     "text": [
      "1 loop, best of 3: 23.8 s per loop\n"
     ]
    }
   ],
   "source": [
    "%timeit -n 1 multithreading(CPUcosting_function, big_array, 1)"
   ]
  },
  {
   "cell_type": "code",
   "execution_count": 16,
   "metadata": {},
   "outputs": [
    {
     "name": "stdout",
     "output_type": "stream",
     "text": [
      "1 loop, best of 3: 31.5 s per loop\n"
     ]
    }
   ],
   "source": [
    "%timeit -n 1 multithreading(CPUcosting_function, big_array, 4)"
   ]
  },
  {
   "cell_type": "code",
   "execution_count": 17,
   "metadata": {},
   "outputs": [
    {
     "name": "stdout",
     "output_type": "stream",
     "text": [
      "1 loop, best of 3: 25.6 s per loop\n"
     ]
    }
   ],
   "source": [
    "%timeit -n 1 multiprocessing(CPUcosting_function, big_array, 1)"
   ]
  },
  {
   "cell_type": "code",
   "execution_count": 18,
   "metadata": {},
   "outputs": [
    {
     "name": "stdout",
     "output_type": "stream",
     "text": [
      "1 loop, best of 3: 16.3 s per loop\n"
     ]
    }
   ],
   "source": [
    "%timeit -n 1 multiprocessing(CPUcosting_function, big_array, 4)"
   ]
  },
  {
   "cell_type": "code",
   "execution_count": null,
   "metadata": {},
   "outputs": [],
   "source": []
  }
 ],
 "metadata": {
  "kernelspec": {
   "display_name": "Python 2",
   "language": "python",
   "name": "python2"
  },
  "language_info": {
   "codemirror_mode": {
    "name": "ipython",
    "version": 2
   },
   "file_extension": ".py",
   "mimetype": "text/x-python",
   "name": "python",
   "nbconvert_exporter": "python",
   "pygments_lexer": "ipython2",
   "version": "2.7.12"
  }
 },
 "nbformat": 4,
 "nbformat_minor": 2
}
