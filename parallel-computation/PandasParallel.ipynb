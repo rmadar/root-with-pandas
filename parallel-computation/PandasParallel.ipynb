{
 "cells": [
  {
   "cell_type": "code",
   "execution_count": 1,
   "metadata": {},
   "outputs": [
    {
     "data": {
      "application/javascript": [
       "require(['codemirror/mode/clike/clike'], function(Clike) { console.log('ROOTaaS - C++ CodeMirror module loaded'); });"
      ]
     },
     "metadata": {},
     "output_type": "display_data"
    },
    {
     "data": {
      "application/javascript": [
       "IPython.CodeCell.config_defaults.highlight_modes['magic_text/x-c++src'] = {'reg':[/^%%cpp/]};"
      ]
     },
     "metadata": {},
     "output_type": "display_data"
    },
    {
     "name": "stdout",
     "output_type": "stream",
     "text": [
      "Welcome to ROOTaaS 6.06/08\n"
     ]
    }
   ],
   "source": [
    "# Disable warnings\n",
    "import warnings\n",
    "warnings.filterwarnings('ignore')\n",
    "\n",
    "# Usual library\n",
    "import numpy   as np\n",
    "import pandas  as pd\n",
    "\n",
    "# Dataset exploration functions\n",
    "import dataset as d"
   ]
  },
  {
   "cell_type": "code",
   "execution_count": 2,
   "metadata": {},
   "outputs": [
    {
     "name": "stdout",
     "output_type": "stream",
     "text": [
      "<class 'pandas.core.frame.DataFrame'>\n",
      "RangeIndex: 20343 entries, 0 to 20342\n",
      "Columns: 327 entries, mc_generator_weights to electronCollection\n",
      "dtypes: bool(5), float32(73), int32(47), int8(16), object(180), uint32(5), uint64(1)\n",
      "memory usage: 38.2+ MB\n"
     ]
    }
   ],
   "source": [
    "data = d.get_data()\n",
    "data.info()"
   ]
  },
  {
   "cell_type": "code",
   "execution_count": 3,
   "metadata": {},
   "outputs": [
    {
     "name": "stdout",
     "output_type": "stream",
     "text": [
      "<class 'pandas.core.frame.DataFrame'>\n",
      "RangeIndex: 20343 entries, 0 to 20342\n",
      "Data columns (total 3 columns):\n",
      "jetCollection         20343 non-null object\n",
      "muonCollection        20343 non-null object\n",
      "electronCollection    20343 non-null object\n",
      "dtypes: object(3)\n",
      "memory usage: 476.9+ KB\n"
     ]
    }
   ],
   "source": [
    "data_collection = data[['jetCollection','muonCollection','electronCollection']]\n",
    "data_collection.info()"
   ]
  },
  {
   "cell_type": "code",
   "execution_count": 51,
   "metadata": {
    "scrolled": true
   },
   "outputs": [
    {
     "name": "stdout",
     "output_type": "stream",
     "text": [
      "1 loop, best of 3: 8.66 s per loop\n"
     ]
    }
   ],
   "source": [
    "%timeit -n 1 data.apply(d.compute_manydR, axis=1)"
   ]
  },
  {
   "cell_type": "code",
   "execution_count": 52,
   "metadata": {},
   "outputs": [
    {
     "name": "stdout",
     "output_type": "stream",
     "text": [
      "1 loop, best of 3: 7.88 s per loop\n"
     ]
    }
   ],
   "source": [
    "%timeit -n 1 data_collection.apply(d.compute_manydR, axis=1)"
   ]
  },
  {
   "cell_type": "code",
   "execution_count": 7,
   "metadata": {},
   "outputs": [
    {
     "name": "stdout",
     "output_type": "stream",
     "text": [
      "('profile:     ', u'default')\n",
      "('IDs:         ', [0, 1, 2, 3])\n",
      "('direct views ', <DirectView [0, 1, 2, 3]>)\n"
     ]
    }
   ],
   "source": [
    "# Parallelization with ipyparallel\n",
    "import ipyparallel\n",
    "\n",
    "cluster = ipyparallel.Client(profile='default')\n",
    "dview = cluster[:]\n",
    "\n",
    "print( 'profile:     ', cluster.profile)\n",
    "print( 'IDs:         ', cluster.ids    ) # Print process id numbers\n",
    "print( 'direct views ', dview)"
   ]
  },
  {
   "cell_type": "code",
   "execution_count": 8,
   "metadata": {},
   "outputs": [],
   "source": [
    "def parallelized_function(small_df):\n",
    "    return small_df.apply(d.compute_manydR, axis=1)"
   ]
  },
  {
   "cell_type": "code",
   "execution_count": 55,
   "metadata": {},
   "outputs": [
    {
     "name": "stdout",
     "output_type": "stream",
     "text": [
      "1 loop, best of 3: 39.3 ms per loop\n",
      "1 loop, best of 3: 40.2 ms per loop\n",
      "1 loop, best of 3: 42 ms per loop\n",
      "1 loop, best of 3: 42.4 ms per loop\n",
      "1 loop, best of 3: 40.3 ms per loop\n",
      "1 loop, best of 3: 40.4 ms per loop\n",
      "1 loop, best of 3: 45.9 ms per loop\n",
      "1 loop, best of 3: 42.5 ms per loop\n",
      "1 loop, best of 3: 38.6 ms per loop\n",
      "1 loop, best of 3: 40 ms per loop\n"
     ]
    }
   ],
   "source": [
    "array_small_df = np.array_split(data, 200)\n",
    "for df in array_small_df[0:10]:\n",
    "    %timeit -n 1 df.apply(d.compute_manydR, axis=1)"
   ]
  },
  {
   "cell_type": "code",
   "execution_count": 56,
   "metadata": {},
   "outputs": [
    {
     "name": "stdout",
     "output_type": "stream",
     "text": [
      "1 loop, best of 3: 37.2 ms per loop\n",
      "1 loop, best of 3: 42.3 ms per loop\n",
      "1 loop, best of 3: 47 ms per loop\n",
      "1 loop, best of 3: 48 ms per loop\n",
      "1 loop, best of 3: 38.5 ms per loop\n",
      "1 loop, best of 3: 44.5 ms per loop\n",
      "1 loop, best of 3: 48.2 ms per loop\n",
      "1 loop, best of 3: 46.5 ms per loop\n",
      "1 loop, best of 3: 45.8 ms per loop\n",
      "1 loop, best of 3: 48.3 ms per loop\n"
     ]
    }
   ],
   "source": [
    "array_small_df_collection = np.array_split(data_collection, 200)\n",
    "for df in array_small_df_collection[0:10]:\n",
    "    %timeit -n 1 df.apply(d.compute_manydR, axis=1)"
   ]
  },
  {
   "cell_type": "code",
   "execution_count": 57,
   "metadata": {},
   "outputs": [
    {
     "name": "stdout",
     "output_type": "stream",
     "text": [
      "1 loop, best of 3: 21.1 s per loop\n"
     ]
    }
   ],
   "source": [
    "%timeit -n 1 dview.map(parallelized_function, array_small_df)"
   ]
  },
  {
   "cell_type": "code",
   "execution_count": 58,
   "metadata": {},
   "outputs": [
    {
     "name": "stdout",
     "output_type": "stream",
     "text": [
      "1 loop, best of 3: 3.77 s per loop\n"
     ]
    }
   ],
   "source": [
    "%timeit -n 1 dview.map(parallelized_function, array_small_df_collection)"
   ]
  },
  {
   "cell_type": "code",
   "execution_count": 5,
   "metadata": {},
   "outputs": [],
   "source": [
    "#timing\n",
    "from timeit import default_timer\n",
    "\n",
    "import matplotlib        as mpl\n",
    "import matplotlib.pyplot as plt\n",
    "%matplotlib inline\n",
    "\n",
    "# Plot settings\n",
    "mpl.rcParams['legend.frameon' ] = False\n",
    "mpl.rcParams['legend.fontsize'] = 'xx-large'\n",
    "mpl.rcParams['xtick.labelsize'] = 16\n",
    "mpl.rcParams['ytick.labelsize'] = 16\n",
    "mpl.rcParams['axes.titlesize' ] = 18\n",
    "mpl.rcParams['axes.labelsize' ] = 18\n",
    "mpl.rcParams['lines.linewidth'] = 2.5"
   ]
  },
  {
   "cell_type": "code",
   "execution_count": 16,
   "metadata": {},
   "outputs": [
    {
     "name": "stdout",
     "output_type": "stream",
     "text": [
      "1 loop, best of 3: 3.23 s per loop\n",
      "1 loop, best of 3: 3.45 s per loop\n",
      "1 loop, best of 3: 3.41 s per loop\n",
      "1 loop, best of 3: 3.48 s per loop\n",
      "1 loop, best of 3: 3.54 s per loop\n",
      "1 loop, best of 3: 3.54 s per loop\n"
     ]
    }
   ],
   "source": [
    "Nsplit=[1,10,100,200,500,1000]\n",
    "dt=[]\n",
    "for n in Nsplit:\n",
    "    mydata = np.array_split(data_collection,n)\n",
    "    t0 = default_timer()\n",
    "    %timeit -n 1 dview.map(parallelized_function, mydata)\n",
    "    t1 = default_timer()\n",
    "    dt.append((t1-t0)/3.)"
   ]
  },
  {
   "cell_type": "code",
   "execution_count": 17,
   "metadata": {},
   "outputs": [
    {
     "data": {
      "text/plain": [
       "[<matplotlib.lines.Line2D at 0x7f622647efd0>]"
      ]
     },
     "execution_count": 17,
     "metadata": {},
     "output_type": "execute_result"
    },
    {
     "data": {
      "image/png": "[encoded data removed]",
      "text/plain": [
       "<matplotlib.figure.Figure at 0x7f622741a1d0>"
      ]
     },
     "metadata": {},
     "output_type": "display_data"
    }
   ],
   "source": [
    "plt.plot(Nsplit,dt)"
   ]
  },
  {
   "cell_type": "code",
   "execution_count": 15,
   "metadata": {},
   "outputs": [
    {
     "name": "stdout",
     "output_type": "stream",
     "text": [
      "1 loop, best of 3: 8.07 s per loop\n"
     ]
    }
   ],
   "source": [
    "%timeit -n 1 data_collection.apply(d.compute_manydR, axis=1)"
   ]
  },
  {
   "cell_type": "code",
   "execution_count": 18,
   "metadata": {},
   "outputs": [
    {
     "name": "stdout",
     "output_type": "stream",
     "text": [
      "1 loop, best of 3: 19.3 s per loop\n",
      "1 loop, best of 3: 21.9 s per loop\n",
      "1 loop, best of 3: 21.1 s per loop\n",
      "1 loop, best of 3: 21.3 s per loop\n",
      "1 loop, best of 3: 20.8 s per loop\n",
      "1 loop, best of 3: 21.5 s per loop\n"
     ]
    },
    {
     "data": {
      "text/plain": [
       "[<matplotlib.lines.Line2D at 0x7f622a8781d0>]"
      ]
     },
     "execution_count": 18,
     "metadata": {},
     "output_type": "execute_result"
    },
    {
     "data": {
      "image/png": "[encoded data removed]",
      "text/plain": [
       "<matplotlib.figure.Figure at 0x7f62288b4890>"
      ]
     },
     "metadata": {},
     "output_type": "display_data"
    }
   ],
   "source": [
    "Nsplit=[1,10,100,200,500,1000]\n",
    "dt=[]\n",
    "for n in Nsplit:\n",
    "    mydata = np.array_split(data,n)\n",
    "    t0 = default_timer()\n",
    "    %timeit -n 1 dview.map(parallelized_function, mydata)\n",
    "    t1 = default_timer()\n",
    "    dt.append((t1-t0)/3.)\n",
    "\n",
    "plt.plot(Nsplit,dt)"
   ]
  },
  {
   "cell_type": "markdown",
   "metadata": {},
   "source": [
    "conclusion: this operation seems to be I/O (or memory?) limited ..."
   ]
  },
  {
   "cell_type": "code",
   "execution_count": null,
   "metadata": {},
   "outputs": [],
   "source": []
  }
 ],
 "metadata": {
  "kernelspec": {
   "display_name": "Python 2",
   "language": "python",
   "name": "python2"
  },
  "language_info": {
   "codemirror_mode": {
    "name": "ipython",
    "version": 2
   },
   "file_extension": ".py",
   "mimetype": "text/x-python",
   "name": "python",
   "nbconvert_exporter": "python",
   "pygments_lexer": "ipython2",
   "version": "2.7.12"
  }
 },
 "nbformat": 4,
 "nbformat_minor": 2
}
