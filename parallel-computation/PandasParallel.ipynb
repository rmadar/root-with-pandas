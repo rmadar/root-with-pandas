{
 "cells": [
  {
   "cell_type": "code",
   "execution_count": 48,
   "metadata": {},
   "outputs": [],
   "source": [
    "# Disable warnings\n",
    "import warnings\n",
    "warnings.filterwarnings('ignore')\n",
    "\n",
    "# Usual library\n",
    "import numpy   as np\n",
    "import pandas  as pd\n",
    "\n",
    "# Dataset exploration functions\n",
    "import dataset as d"
   ]
  },
  {
   "cell_type": "code",
   "execution_count": 49,
   "metadata": {},
   "outputs": [
    {
     "name": "stdout",
     "output_type": "stream",
     "text": [
      "<class 'pandas.core.frame.DataFrame'>\n",
      "RangeIndex: 20343 entries, 0 to 20342\n",
      "Columns: 327 entries, mc_generator_weights to electronCollection\n",
      "dtypes: bool(5), float32(73), int32(47), int8(16), object(180), uint32(5), uint64(1)\n",
      "memory usage: 38.2+ MB\n"
     ]
    }
   ],
   "source": [
    "data = d.get_data()\n",
    "data.info()"
   ]
  },
  {
   "cell_type": "code",
   "execution_count": 50,
   "metadata": {},
   "outputs": [
    {
     "name": "stdout",
     "output_type": "stream",
     "text": [
      "<class 'pandas.core.frame.DataFrame'>\n",
      "RangeIndex: 20343 entries, 0 to 20342\n",
      "Data columns (total 3 columns):\n",
      "jetCollection         20343 non-null object\n",
      "muonCollection        20343 non-null object\n",
      "electronCollection    20343 non-null object\n",
      "dtypes: object(3)\n",
      "memory usage: 476.9+ KB\n"
     ]
    }
   ],
   "source": [
    "data_collection = data[['jetCollection','muonCollection','electronCollection']]\n",
    "data_collection.info()"
   ]
  },
  {
   "cell_type": "code",
   "execution_count": 51,
   "metadata": {
    "scrolled": true
   },
   "outputs": [
    {
     "name": "stdout",
     "output_type": "stream",
     "text": [
      "1 loop, best of 3: 8.66 s per loop\n"
     ]
    }
   ],
   "source": [
    "%timeit -n 1 data.apply(d.compute_manydR, axis=1)"
   ]
  },
  {
   "cell_type": "code",
   "execution_count": 52,
   "metadata": {},
   "outputs": [
    {
     "name": "stdout",
     "output_type": "stream",
     "text": [
      "1 loop, best of 3: 7.88 s per loop\n"
     ]
    }
   ],
   "source": [
    "%timeit -n 1 data_collection.apply(d.compute_manydR, axis=1)"
   ]
  },
  {
   "cell_type": "code",
   "execution_count": 53,
   "metadata": {},
   "outputs": [
    {
     "name": "stdout",
     "output_type": "stream",
     "text": [
      "('profile:     ', u'default')\n",
      "('IDs:         ', [0, 1, 2, 3])\n",
      "('direct views ', <DirectView [0, 1, 2, 3]>)\n"
     ]
    }
   ],
   "source": [
    "# Parallelization with ipyparallel\n",
    "import ipyparallel\n",
    "\n",
    "cluster = ipyparallel.Client(profile='default')\n",
    "dview = cluster[:]\n",
    "\n",
    "print( 'profile:     ', cluster.profile)\n",
    "print( 'IDs:         ', cluster.ids    ) # Print process id numbers\n",
    "print( 'direct views ', dview)"
   ]
  },
  {
   "cell_type": "code",
   "execution_count": 54,
   "metadata": {},
   "outputs": [],
   "source": [
    "def parallelized_function(small_df):\n",
    "    return small_df.apply(d.compute_manydR, axis=1)"
   ]
  },
  {
   "cell_type": "code",
   "execution_count": 55,
   "metadata": {},
   "outputs": [
    {
     "name": "stdout",
     "output_type": "stream",
     "text": [
      "1 loop, best of 3: 39.3 ms per loop\n",
      "1 loop, best of 3: 40.2 ms per loop\n",
      "1 loop, best of 3: 42 ms per loop\n",
      "1 loop, best of 3: 42.4 ms per loop\n",
      "1 loop, best of 3: 40.3 ms per loop\n",
      "1 loop, best of 3: 40.4 ms per loop\n",
      "1 loop, best of 3: 45.9 ms per loop\n",
      "1 loop, best of 3: 42.5 ms per loop\n",
      "1 loop, best of 3: 38.6 ms per loop\n",
      "1 loop, best of 3: 40 ms per loop\n"
     ]
    }
   ],
   "source": [
    "array_small_df = np.array_split(data, 200)\n",
    "for df in array_small_df[0:10]:\n",
    "    %timeit -n 1 df.apply(d.compute_manydR, axis=1)"
   ]
  },
  {
   "cell_type": "code",
   "execution_count": null,
   "metadata": {},
   "outputs": [
    {
     "name": "stdout",
     "output_type": "stream",
     "text": [
      "1 loop, best of 3: 37.2 ms per loop\n",
      "1 loop, best of 3: 42.3 ms per loop\n",
      "1 loop, best of 3: 47 ms per loop\n",
      "1 loop, best of 3: 48 ms per loop\n",
      "1 loop, best of 3: 38.5 ms per loop\n",
      "1 loop, best of 3: 44.5 ms per loop\n",
      "1 loop, best of 3: 48.2 ms per loop\n",
      "1 loop, best of 3: 46.5 ms per loop\n",
      "1 loop, best of 3: 45.8 ms per loop\n",
      "1 loop, best of 3: 48.3 ms per loop\n"
     ]
    }
   ],
   "source": [
    "array_small_df_collection = np.array_split(data_collection, 200)\n",
    "for df in array_small_df_collection[0:10]:\n",
    "    %timeit -n 1 df.apply(d.compute_manydR, axis=1)"
   ]
  },
  {
   "cell_type": "code",
   "execution_count": null,
   "metadata": {},
   "outputs": [],
   "source": [
    "%timeit -n 1 dview.map(parallelized_function, array_small_df)"
   ]
  },
  {
   "cell_type": "code",
   "execution_count": null,
   "metadata": {},
   "outputs": [],
   "source": [
    "%timeit -n 1 dview.map(parallelized_function, array_small_df_collection)"
   ]
  }
 ],
 "metadata": {
  "kernelspec": {
   "display_name": "Python 2",
   "language": "python",
   "name": "python2"
  },
  "language_info": {
   "codemirror_mode": {
    "name": "ipython",
    "version": 2
   },
   "file_extension": ".py",
   "mimetype": "text/x-python",
   "name": "python",
   "nbconvert_exporter": "python",
   "pygments_lexer": "ipython2",
   "version": "2.7.12"
  }
 },
 "nbformat": 4,
 "nbformat_minor": 2
}
