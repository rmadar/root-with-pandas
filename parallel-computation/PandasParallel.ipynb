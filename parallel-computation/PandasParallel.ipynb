{
 "cells": [
  {
   "cell_type": "code",
   "execution_count": 25,
   "metadata": {},
   "outputs": [],
   "source": [
    "# Disable warnings\n",
    "import warnings\n",
    "warnings.filterwarnings('ignore')\n",
    "\n",
    "# Combinatorics tool\n",
    "import itertools\n",
    "\n",
    "# Usual library\n",
    "import numpy             as np\n",
    "import pandas            as pd\n",
    "import matplotlib        as mpl\n",
    "import matplotlib.pyplot as plt\n",
    "%matplotlib inline\n",
    "\n",
    "# Plot settings\n",
    "mpl.rcParams['legend.frameon' ] = False\n",
    "mpl.rcParams['legend.fontsize'] = 'xx-large'\n",
    "mpl.rcParams['xtick.labelsize'] = 16\n",
    "mpl.rcParams['ytick.labelsize'] = 16\n",
    "mpl.rcParams['axes.titlesize' ] = 18\n",
    "mpl.rcParams['axes.labelsize' ] = 18\n",
    "mpl.rcParams['lines.linewidth'] = 2.5\n",
    "\n",
    "# Dataset exploration functions\n",
    "import dataset"
   ]
  },
  {
   "cell_type": "code",
   "execution_count": 26,
   "metadata": {},
   "outputs": [
    {
     "name": "stdout",
     "output_type": "stream",
     "text": [
      "<class 'pandas.core.frame.DataFrame'>\n",
      "RangeIndex: 20343 entries, 0 to 20342\n",
      "Columns: 327 entries, mc_generator_weights to electronCollection\n",
      "dtypes: bool(5), float32(73), int32(47), int8(16), object(180), uint32(5), uint64(1)\n",
      "memory usage: 38.2+ MB\n"
     ]
    }
   ],
   "source": [
    "data = dataset.get_data()\n",
    "data.info()"
   ]
  },
  {
   "cell_type": "code",
   "execution_count": 31,
   "metadata": {},
   "outputs": [
    {
     "name": "stdout",
     "output_type": "stream",
     "text": [
      "<class 'pandas.core.frame.DataFrame'>\n",
      "RangeIndex: 20343 entries, 0 to 20342\n",
      "Data columns (total 3 columns):\n",
      "jetCollection         20343 non-null object\n",
      "muonCollection        20343 non-null object\n",
      "electronCollection    20343 non-null object\n",
      "dtypes: object(3)\n",
      "memory usage: 476.9+ KB\n"
     ]
    }
   ],
   "source": [
    "data_collection = data[['jetCollection','muonCollection','electronCollection']]\n",
    "data_collection.info()"
   ]
  },
  {
   "cell_type": "code",
   "execution_count": 27,
   "metadata": {
    "scrolled": true
   },
   "outputs": [
    {
     "name": "stdout",
     "output_type": "stream",
     "text": [
      "1 loop, best of 3: 8.71 s per loop\n"
     ]
    }
   ],
   "source": [
    "%timeit -n 1 data.apply(dataset.compute_manydR, axis=1)"
   ]
  },
  {
   "cell_type": "code",
   "execution_count": 32,
   "metadata": {},
   "outputs": [
    {
     "name": "stdout",
     "output_type": "stream",
     "text": [
      "1 loop, best of 3: 7.66 s per loop\n"
     ]
    }
   ],
   "source": [
    "%timeit -n 1 data_collection.apply(dataset.compute_manydR, axis=1)"
   ]
  },
  {
   "cell_type": "code",
   "execution_count": 35,
   "metadata": {},
   "outputs": [
    {
     "name": "stdout",
     "output_type": "stream",
     "text": [
      "('profile:     ', u'default')\n",
      "('IDs:         ', [0, 1, 2, 3])\n",
      "('direct views ', <DirectView [0, 1, 2, 3]>)\n"
     ]
    }
   ],
   "source": [
    "# Parallelization with ipyparallel\n",
    "import ipyparallel\n",
    "\n",
    "cluster = ipyparallel.Client(profile='default')\n",
    "dview = cluster[:]\n",
    "\n",
    "print( 'profile:     ', cluster.profile)\n",
    "print( 'IDs:         ', cluster.ids    ) # Print process id numbers\n",
    "print( 'direct views ', dview)"
   ]
  },
  {
   "cell_type": "code",
   "execution_count": 36,
   "metadata": {},
   "outputs": [],
   "source": [
    "def parallelized_function(small_df):\n",
    "    return small_df.apply(dataset.compute_manydR, axis=1)"
   ]
  },
  {
   "cell_type": "code",
   "execution_count": 44,
   "metadata": {},
   "outputs": [
    {
     "name": "stdout",
     "output_type": "stream",
     "text": [
      "1 loop, best of 3: 39.6 ms per loop\n",
      "1 loop, best of 3: 41.4 ms per loop\n",
      "1 loop, best of 3: 42.7 ms per loop\n",
      "1 loop, best of 3: 39.1 ms per loop\n",
      "1 loop, best of 3: 42.1 ms per loop\n",
      "1 loop, best of 3: 40.8 ms per loop\n",
      "1 loop, best of 3: 48.2 ms per loop\n",
      "1 loop, best of 3: 39.7 ms per loop\n",
      "1 loop, best of 3: 40 ms per loop\n",
      "1 loop, best of 3: 41.1 ms per loop\n"
     ]
    }
   ],
   "source": [
    "array_small_df = np.array_split(data, 200)\n",
    "for df in array_small_df[0:10]:\n",
    "    %timeit -n 1 df.apply(dataset.compute_manydR, axis=1)"
   ]
  },
  {
   "cell_type": "code",
   "execution_count": 45,
   "metadata": {},
   "outputs": [
    {
     "name": "stdout",
     "output_type": "stream",
     "text": [
      "1 loop, best of 3: 44.7 ms per loop\n",
      "1 loop, best of 3: 39.1 ms per loop\n",
      "1 loop, best of 3: 44.1 ms per loop\n",
      "1 loop, best of 3: 45.3 ms per loop\n",
      "1 loop, best of 3: 45.6 ms per loop\n",
      "1 loop, best of 3: 46.7 ms per loop\n",
      "1 loop, best of 3: 50 ms per loop\n",
      "1 loop, best of 3: 38.9 ms per loop\n",
      "1 loop, best of 3: 43.8 ms per loop\n",
      "1 loop, best of 3: 45.7 ms per loop\n"
     ]
    }
   ],
   "source": [
    "array_small_df_collection = np.array_split(data_collection, 200)\n",
    "for df in array_small_df_collection[0:10]:\n",
    "    %timeit -n 1 df.apply(dataset.compute_manydR, axis=1)"
   ]
  },
  {
   "cell_type": "code",
   "execution_count": 46,
   "metadata": {},
   "outputs": [
    {
     "name": "stdout",
     "output_type": "stream",
     "text": [
      "1 loop, best of 3: 19 s per loop\n"
     ]
    }
   ],
   "source": [
    "%timeit -n 1 dview.map(parallelized_function, array_small_df)"
   ]
  },
  {
   "cell_type": "code",
   "execution_count": 47,
   "metadata": {},
   "outputs": [
    {
     "name": "stdout",
     "output_type": "stream",
     "text": [
      "1 loop, best of 3: 3.49 s per loop\n"
     ]
    }
   ],
   "source": [
    "%timeit -n 1 dview.map(parallelized_function, array_small_df_collection)"
   ]
  },
  {
   "cell_type": "code",
   "execution_count": null,
   "metadata": {},
   "outputs": [],
   "source": []
  }
 ],
 "metadata": {
  "kernelspec": {
   "display_name": "Python 2",
   "language": "python",
   "name": "python2"
  },
  "language_info": {
   "codemirror_mode": {
    "name": "ipython",
    "version": 2
   },
   "file_extension": ".py",
   "mimetype": "text/x-python",
   "name": "python",
   "nbconvert_exporter": "python",
   "pygments_lexer": "ipython2",
   "version": "2.7.12"
  }
 },
 "nbformat": 4,
 "nbformat_minor": 2
}
